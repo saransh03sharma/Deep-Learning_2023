{
  "cells": [
    {
      "cell_type": "markdown",
      "metadata": {
        "id": "FBKdMbwfvq-W"
      },
      "source": [
        "\n",
        "\n",
        "\n",
        "\n",
        "\n",
        "\n",
        "\n",
        "\n",
        "\n",
        "\n",
        "\n",
        "\n",
        "\n",
        "\n",
        "\n",
        "\n",
        "\n",
        "\n",
        "\n",
        "\n",
        "\n",
        "\n",
        "\n",
        "\n",
        "\n",
        "\n",
        "\n",
        "\n",
        "\n",
        "\n",
        "\n",
        "\n",
        "\n",
        "\n",
        "\n",
        "\n",
        "\n",
        "\n",
        "\n",
        "\n",
        "\n",
        "\n",
        "\n",
        "\n",
        "\n",
        "\n",
        "\n",
        "\n",
        "\n",
        "\n",
        "\n",
        "\n",
        "\n",
        "\n",
        "\n",
        "\n",
        "\n",
        "\n",
        "\n",
        "\n",
        "\n",
        "\n",
        "\n",
        "\n",
        "\n",
        "\n",
        "\n",
        "\n",
        "\n",
        "\n",
        "\n",
        "\n",
        "\n",
        "\n",
        "\n",
        "\n",
        "\n",
        "\n",
        "\n",
        "\n",
        "\n",
        "\n",
        "\n",
        "\n",
        "\n",
        "\n",
        "\n",
        "\n",
        "+# About: Deep Learning '23 Assignment 1\n",
        "\n",
        "\n",
        "We will perform Image Classification task on the MNIST dataset which has 70,000 28*28 images labelled into 10 classes. \n",
        "\n",
        "**Total Marks: 60**\n",
        "\n",
        "\n",
        "**Fill these**\n",
        "\n",
        "Name: `Saransh Sharma`\n",
        "\n",
        "Roll Number: `20CS30065`\n",
        "\n",
        "**Instructions:**\n",
        "\n",
        "1. We have left code cells blank for you to fill up with appropriate code. Do not add any extra code cells. Strictly follow the format and fill up the cells with the correct code. Refer to cell comments for what to fill in that cell.\n",
        "\n",
        "2. *Do not* use any training frameworks like PyTorch Lightning. This assignment will test your ability to write custom training loops.\n",
        "\n",
        "3. Save the notebook with cell outputs of all cells. The cell outputs  will be used for evaluating your submission.\n",
        "\n",
        "\n"
      ]
    },
    {
      "cell_type": "code",
      "execution_count": 1,
      "metadata": {
        "id": "b7yol97nxLq3"
      },
      "outputs": [],
      "source": [
        "import torch\n",
        "import torch.nn as nn\n",
        "import random\n",
        "import numpy as np\n",
        "\n",
        "from torchvision import datasets, transforms \n",
        "from torch.utils.data import random_split, DataLoader\n",
        "\n",
        "## Add any other imports here\n",
        "import matplotlib.pyplot as plt"
      ]
    },
    {
      "cell_type": "code",
      "execution_count": 2,
      "metadata": {
        "id": "Lv07aCHK0IhG"
      },
      "outputs": [],
      "source": [
        "SEED=42\n",
        "torch.manual_seed(SEED)\n",
        "random.seed(SEED)\n",
        "np.random.seed(SEED)"
      ]
    },
    {
      "cell_type": "markdown",
      "metadata": {
        "id": "HU_56fBhx2H4"
      },
      "source": [
        "## Getting the data"
      ]
    },
    {
      "cell_type": "code",
      "execution_count": 3,
      "metadata": {
        "colab": {
          "base_uri": "https://localhost:8080/",
          "height": 455,
          "referenced_widgets": [
            "eb5e18a98eb8411c94c520bf6119070b",
            "4cc0efd8efdc43c49aadaa33b0e49c19",
            "92f597abd5754895aafaefc6a1186edf",
            "55d4971dec174aa98ec87ae59650e5f1",
            "c52c02b0b08a44e38be1fd422c4f503f",
            "01b53c9b22794940bf2b264186e4a60b",
            "a6328f1bd989421bb7b0996378f12f56",
            "ce5619c6222e4267a11e850aeda4a9c0",
            "c2fd055b18524aba9a356ca30f07a7b5",
            "4afa2ac4eca24177a83ebbd011ecf5d9",
            "5d7f966887394db7b49f298d305316a1",
            "5f8e02e0431c4ea8a1389a8fcfbabf5c",
            "c5bcbc61279a4560b78c0760de63604f",
            "e4d14a9902964f39ba2b45b0f6e39300",
            "742872494ee94c5b8477a8f2c23cc716",
            "3afd36c5bbca44108f0e17e98e04befa",
            "3d5133992c774dd7bd2dcc5926c38789",
            "159f3369579142fab8902a3347dc004c",
            "638e0ed0074947d89788829f341b9352",
            "4c93fc7d20f14dc092f5b9d5340667fb",
            "44f31bb4dde743808a11b06dfb037cad",
            "6efd889df1a54725a247395b3d261e25",
            "693e99f1abbc44bdaf3433b27c0db5c5",
            "6fb9fb54da8e4fbcb5fb172bb91820dc",
            "026e29fd8aef434db27e41afc6aa5a25",
            "7efa5e50fe2a465dba8bedaf3dd25947",
            "ce07ce59b9ac4754bd745671d36e3875",
            "d5608b1c55444287a0f980bb24009a82",
            "e534cd296ea0485d80c7b89e891658e9",
            "a90e46ceef634fe59ab49cf350f6f27b",
            "122e9a34c4184d9dbce43ebd89a54ec5",
            "cdaf2adf11724f79b6e294988dcdd2e2",
            "3fff8a77134c4aa69e84b85685e035a8",
            "6085ff59e6d54b9893fcbc858836ba0e",
            "c8dd6d4850994ddba87be92566626d8e",
            "9acb8110c5324f73bb8b34fcd31ba31f",
            "80c701ea1dc7453892b5ba7c3307ad49",
            "9c5183764ff3422e89a4396c57646f5f",
            "78c0ae3d7f5944bdb9270f0d23060e79",
            "d209a15a12e54c229218f0e9b3a3abde",
            "467aef3cd45940d0ae9c7e85e5fc79fd",
            "126b78d966ec47e3878f9b7af7e205f5",
            "30b1ae6d88574737875258110f437b27",
            "2646e18ecc4445f3b3557bd91fb3a949"
          ]
        },
        "id": "CfV1pXYtyAfW",
        "outputId": "fb61b2ec-7abc-4434-d99f-9abe8bf02252"
      },
      "outputs": [
        {
          "output_type": "stream",
          "name": "stdout",
          "text": [
            "Downloading http://yann.lecun.com/exdb/mnist/train-images-idx3-ubyte.gz\n",
            "Downloading http://yann.lecun.com/exdb/mnist/train-images-idx3-ubyte.gz to data/MNIST/raw/train-images-idx3-ubyte.gz\n"
          ]
        },
        {
          "output_type": "display_data",
          "data": {
            "text/plain": [
              "  0%|          | 0/9912422 [00:00<?, ?it/s]"
            ],
            "application/vnd.jupyter.widget-view+json": {
              "version_major": 2,
              "version_minor": 0,
              "model_id": "eb5e18a98eb8411c94c520bf6119070b"
            }
          },
          "metadata": {}
        },
        {
          "output_type": "stream",
          "name": "stdout",
          "text": [
            "Extracting data/MNIST/raw/train-images-idx3-ubyte.gz to data/MNIST/raw\n",
            "\n",
            "Downloading http://yann.lecun.com/exdb/mnist/train-labels-idx1-ubyte.gz\n",
            "Downloading http://yann.lecun.com/exdb/mnist/train-labels-idx1-ubyte.gz to data/MNIST/raw/train-labels-idx1-ubyte.gz\n"
          ]
        },
        {
          "output_type": "display_data",
          "data": {
            "text/plain": [
              "  0%|          | 0/28881 [00:00<?, ?it/s]"
            ],
            "application/vnd.jupyter.widget-view+json": {
              "version_major": 2,
              "version_minor": 0,
              "model_id": "5f8e02e0431c4ea8a1389a8fcfbabf5c"
            }
          },
          "metadata": {}
        },
        {
          "output_type": "stream",
          "name": "stdout",
          "text": [
            "Extracting data/MNIST/raw/train-labels-idx1-ubyte.gz to data/MNIST/raw\n",
            "\n",
            "Downloading http://yann.lecun.com/exdb/mnist/t10k-images-idx3-ubyte.gz\n",
            "Downloading http://yann.lecun.com/exdb/mnist/t10k-images-idx3-ubyte.gz to data/MNIST/raw/t10k-images-idx3-ubyte.gz\n"
          ]
        },
        {
          "output_type": "display_data",
          "data": {
            "text/plain": [
              "  0%|          | 0/1648877 [00:00<?, ?it/s]"
            ],
            "application/vnd.jupyter.widget-view+json": {
              "version_major": 2,
              "version_minor": 0,
              "model_id": "693e99f1abbc44bdaf3433b27c0db5c5"
            }
          },
          "metadata": {}
        },
        {
          "output_type": "stream",
          "name": "stdout",
          "text": [
            "Extracting data/MNIST/raw/t10k-images-idx3-ubyte.gz to data/MNIST/raw\n",
            "\n",
            "Downloading http://yann.lecun.com/exdb/mnist/t10k-labels-idx1-ubyte.gz\n",
            "Downloading http://yann.lecun.com/exdb/mnist/t10k-labels-idx1-ubyte.gz to data/MNIST/raw/t10k-labels-idx1-ubyte.gz\n"
          ]
        },
        {
          "output_type": "display_data",
          "data": {
            "text/plain": [
              "  0%|          | 0/4542 [00:00<?, ?it/s]"
            ],
            "application/vnd.jupyter.widget-view+json": {
              "version_major": 2,
              "version_minor": 0,
              "model_id": "6085ff59e6d54b9893fcbc858836ba0e"
            }
          },
          "metadata": {}
        },
        {
          "output_type": "stream",
          "name": "stdout",
          "text": [
            "Extracting data/MNIST/raw/t10k-labels-idx1-ubyte.gz to data/MNIST/raw\n",
            "\n",
            "50000 10000 10000\n"
          ]
        }
      ],
      "source": [
        "train_data = datasets.MNIST('data', train=True, download=True, transform=transforms.ToTensor())\n",
        "test_data = datasets.MNIST('data', train=False, download=True, transform=transforms.ToTensor())\n",
        "train, val = random_split(train_data, [50000, 10000], generator=torch.Generator().manual_seed(SEED))\n",
        "\n",
        "train_loader = DataLoader(train, batch_size=64, shuffle=True)\n",
        "val_loader = DataLoader(val, batch_size=64, shuffle=False)\n",
        "test_loader = DataLoader(test_data, batch_size=64, shuffle=False)\n",
        "\n",
        "print(len(train), len(val), len(test_data))\n"
      ]
    },
    {
      "cell_type": "markdown",
      "metadata": {
        "id": "4xqWpnwu0mzj"
      },
      "source": [
        "## Defining the Model [18 marks]\n",
        "\n",
        "You will define 3 models, with 2, 3, 4 hidden layers respectively. Lets call these models A, B, C. We will be studying the comparitive performance of these 3 models on this task.\n",
        "\n",
        "Use ReLU as the activation function for all three models. Later we will experiment with other activation functions as well."
      ]
    },
    {
      "cell_type": "markdown",
      "metadata": {
        "id": "30J_OmCoMm4S"
      },
      "source": [
        "### Model A\n",
        "\n",
        "Architecture:\n",
        "\n",
        "1. Input Layer \n",
        "2. Hidden Layer (Dimension Size - 64)\n",
        "3. Activation Function\n",
        "4. Hidden Layer (Dimension Size - 128)\n",
        "5. Activation Function\n",
        "6. Output Layer (Dimension Size = Number of Classes = 10)"
      ]
    },
    {
      "cell_type": "code",
      "execution_count": 4,
      "metadata": {
        "id": "WPGlwx0502pe"
      },
      "outputs": [],
      "source": [
        "# Model A Definition \n",
        "input_size = 784 # 28x28\n",
        "hidden_size_1 = 64\n",
        "hidden_size_2 = 128\n",
        "output_size = 10\n",
        "\n",
        "\n",
        "# Fill in appropriately while maintaining the name of the variable\n",
        "modelA = nn.Sequential(\n",
        "    nn.Linear(input_size, hidden_size_1),\n",
        "    nn.ReLU(),\n",
        "    nn.Linear(hidden_size_1, hidden_size_2),\n",
        "    nn.ReLU(),\n",
        "    nn.Linear(hidden_size_2, output_size)   \n",
        ")"
      ]
    },
    {
      "cell_type": "markdown",
      "metadata": {
        "id": "0K0nfqCvMqA9"
      },
      "source": [
        "### Model B\n",
        "\n",
        "\n",
        "Architecture:\n",
        "\n",
        "1. Input Layer \n",
        "2. Hidden Layer (Dimension Size - 64)\n",
        "3. Activation Function\n",
        "4. Hidden Layer (Dimension Size - 128)\n",
        "5. Activation Function\n",
        "6. Hidden Layer (Dimension Size - 256)\n",
        "7. Activation Function\n",
        "8. Output Layer (Dimension Size = Number of Classes = 10)"
      ]
    },
    {
      "cell_type": "code",
      "execution_count": 5,
      "metadata": {
        "id": "AD5W0AJ908tI"
      },
      "outputs": [],
      "source": [
        "# Model B Definiton\n",
        "input_size = 784 # 28x28\n",
        "hidden_size_1 = 64\n",
        "hidden_size_2 = 128\n",
        "hidden_size_3 = 256\n",
        "output_size = 10\n",
        "\n",
        "\n",
        "# Use the same variable name\n",
        "modelB = nn.Sequential(\n",
        "    nn.Linear(input_size, hidden_size_1),\n",
        "    nn.ReLU(),\n",
        "    nn.Linear(hidden_size_1, hidden_size_2),\n",
        "    nn.ReLU(),\n",
        "    nn.Linear(hidden_size_2, hidden_size_3),\n",
        "    nn.ReLU(),\n",
        "    nn.Linear(hidden_size_3, output_size)  \n",
        ")"
      ]
    },
    {
      "cell_type": "markdown",
      "metadata": {
        "id": "TPDoGu9mMr_x"
      },
      "source": [
        "### Model C\n",
        "\n",
        "\n",
        "Architecture\n",
        "\n",
        "1. Input Layer \n",
        "2. Hidden Layer (Dimension Size - 64)\n",
        "3. Activation Function\n",
        "4. Hidden Layer (Dimension Size - 128)\n",
        "5. Activation Function\n",
        "6. Hidden Layer (Dimension Size - 256)\n",
        "7. Activation Function\n",
        "8. Hidden Layer (Dimension Size - 512)\n",
        "9. Activation Function\n",
        "10. Output Layer (Dimension Size = Number of Classes = 10)"
      ]
    },
    {
      "cell_type": "code",
      "execution_count": 6,
      "metadata": {
        "id": "FAaOMMjY1Jna"
      },
      "outputs": [],
      "source": [
        "# Model C Definiton\n",
        "input_size = 784 # 28x28\n",
        "hidden_size_1 = 64\n",
        "hidden_size_2 = 128\n",
        "hidden_size_3 = 256\n",
        "hidden_size_4 = 512\n",
        "output_size = 10\n",
        "\n",
        "\n",
        "\n",
        "# Use the same variable name\n",
        "modelC = nn.Sequential(\n",
        "    nn.Linear(input_size, hidden_size_1),\n",
        "    nn.ReLU(),\n",
        "    nn.Linear(hidden_size_1, hidden_size_2),\n",
        "    nn.ReLU(),\n",
        "    nn.Linear(hidden_size_2, hidden_size_3),\n",
        "    nn.ReLU(),\n",
        "    nn.Linear(hidden_size_3, hidden_size_4),\n",
        "    nn.ReLU(),\n",
        "    nn.Linear(hidden_size_4, output_size)\n",
        "    \n",
        ")"
      ]
    },
    {
      "cell_type": "markdown",
      "metadata": {
        "id": "EFfgQVEz1Oqx"
      },
      "source": [
        "## Loss Function & Optimizer [2 marks]\n",
        "\n",
        "* Loss Function: Cross Entropy Loss\n",
        "* Optimizer : Adam\n",
        "\n",
        "Use PyTorch Library versions for these two."
      ]
    },
    {
      "cell_type": "code",
      "execution_count": 7,
      "metadata": {
        "id": "-z7ogUqL1WMV"
      },
      "outputs": [],
      "source": [
        "# Use the same variable names\n",
        "criterion = nn.CrossEntropyLoss()\n",
        "def set_optimizer(model, lr=0.01):\n",
        "    return torch.optim.Adam(model.parameters(), lr=lr)"
      ]
    },
    {
      "cell_type": "markdown",
      "metadata": {
        "id": "OLnwW-h31oJa"
      },
      "source": [
        "## Training Loop [30 marks]\n",
        "\n",
        "We give you the freedom to choose Hyperparameters like learing rate, number of epochs etc, but take care to use the **same** hyperparameters for all themodels. Also clearly state the hyperparameters you have chosen\n",
        "\n",
        "For each model, You need to report these metrics: Train Loss, Val Loss, Train Accuracy, Val Accuracy at the end of each epoch.\n",
        "\n",
        "Also plot the graphs of the following (in separate cells)\n",
        "1. Train Loss & Val Loss V/s Epoch\n",
        "2. Train Accuracy & Val Accuracy V/s Epoch"
      ]
    },
    {
      "cell_type": "code",
      "execution_count": 8,
      "metadata": {
        "id": "3ZVpEI-N8L5X"
      },
      "outputs": [],
      "source": [
        "# Define the hyperparameters (same for all 3 models) here\n",
        "lr = 0.01\n",
        "num_epochs = 15"
      ]
    },
    {
      "cell_type": "markdown",
      "metadata": {
        "id": "UMdreKgU24od"
      },
      "source": [
        "Model A \n",
        "\n"
      ]
    },
    {
      "cell_type": "code",
      "execution_count": 9,
      "metadata": {
        "colab": {
          "base_uri": "https://localhost:8080/"
        },
        "id": "OYqXyrGxTusJ",
        "outputId": "14b577a1-6594-4028-ce36-8b80763c0e23"
      },
      "outputs": [
        {
          "output_type": "stream",
          "name": "stdout",
          "text": [
            "cuda:0\n",
            "Epoch   0. Training Loss: 0.2687,  Validation Loss: 0.1760\n",
            "Epoch   0. Training acc: 95.9000,  Validation acc: 95.1000\n",
            "---------------------------------------------------------------------------------\n",
            "Epoch   1. Training Loss: 0.1584,  Validation Loss: 0.1744\n",
            "Epoch   1. Training acc: 96.4000,  Validation acc: 95.4500\n",
            "---------------------------------------------------------------------------------\n",
            "Epoch   2. Training Loss: 0.1317,  Validation Loss: 0.1521\n",
            "Epoch   2. Training acc: 96.8580,  Validation acc: 96.0100\n",
            "---------------------------------------------------------------------------------\n",
            "Epoch   3. Training Loss: 0.1204,  Validation Loss: 0.1733\n",
            "Epoch   3. Training acc: 97.4720,  Validation acc: 96.1500\n",
            "---------------------------------------------------------------------------------\n",
            "Epoch   4. Training Loss: 0.1173,  Validation Loss: 0.1643\n",
            "Epoch   4. Training acc: 97.5220,  Validation acc: 96.3600\n",
            "---------------------------------------------------------------------------------\n",
            "Epoch   5. Training Loss: 0.1009,  Validation Loss: 0.1752\n",
            "Epoch   5. Training acc: 97.5020,  Validation acc: 95.9700\n",
            "---------------------------------------------------------------------------------\n",
            "Epoch   6. Training Loss: 0.1078,  Validation Loss: 0.1652\n",
            "Epoch   6. Training acc: 97.4620,  Validation acc: 96.0900\n",
            "---------------------------------------------------------------------------------\n",
            "Epoch   7. Training Loss: 0.0969,  Validation Loss: 0.1584\n",
            "Epoch   7. Training acc: 98.0700,  Validation acc: 96.2400\n",
            "---------------------------------------------------------------------------------\n",
            "Epoch   8. Training Loss: 0.0901,  Validation Loss: 0.1752\n",
            "Epoch   8. Training acc: 98.1160,  Validation acc: 96.4800\n",
            "---------------------------------------------------------------------------------\n",
            "Epoch   9. Training Loss: 0.0893,  Validation Loss: 0.1798\n",
            "Epoch   9. Training acc: 97.8800,  Validation acc: 96.1100\n",
            "---------------------------------------------------------------------------------\n",
            "Epoch  10. Training Loss: 0.0805,  Validation Loss: 0.1930\n",
            "Epoch  10. Training acc: 97.4460,  Validation acc: 95.7200\n",
            "---------------------------------------------------------------------------------\n",
            "Epoch  11. Training Loss: 0.0757,  Validation Loss: 0.2054\n",
            "Epoch  11. Training acc: 97.5800,  Validation acc: 95.8900\n",
            "---------------------------------------------------------------------------------\n",
            "Epoch  12. Training Loss: 0.0718,  Validation Loss: 0.2009\n",
            "Epoch  12. Training acc: 98.5440,  Validation acc: 96.4700\n",
            "---------------------------------------------------------------------------------\n",
            "Epoch  13. Training Loss: 0.0713,  Validation Loss: 0.2157\n",
            "Epoch  13. Training acc: 98.2080,  Validation acc: 96.3000\n",
            "---------------------------------------------------------------------------------\n",
            "Epoch  14. Training Loss: 0.0794,  Validation Loss: 0.2164\n",
            "Epoch  14. Training acc: 97.9040,  Validation acc: 95.9300\n",
            "---------------------------------------------------------------------------------\n",
            "Training took 208.35512518882751 seconds for 15 epochs\n"
          ]
        }
      ],
      "source": [
        "#function to define accuracy\n",
        "def accuracy(dataloader, model, dataset):\n",
        "  with torch.no_grad():\n",
        "    correct = 0 #number of correct outputs\n",
        "    for i, (image, output_label) in enumerate(dataloader): #iterate over all batches\n",
        "      image, output_label = image.to(device), output_label.to(device) #unzip the tuple\n",
        "      img = image.reshape(image.shape[0], -1) #flatten the image\n",
        "      y_pred = model(img) #apply the model\n",
        "      _, pred_val = torch.max(y_pred, dim=1)  #assign the index corresponding to maximum value\n",
        "      correct += torch.sum(pred_val == output_label).item() #find number of correct matches\n",
        "    return (100 * correct / len(dataset)) #return fraction\n",
        "  \n",
        "device = torch.device('cuda:0' if torch.cuda.is_available() else 'cpu') #train on cuda\n",
        "print(device)\n",
        "\n",
        "#training loop of modeA\n",
        "import time\n",
        "start_time = time.time()\n",
        "model = modelA\n",
        "model.to(device)\n",
        "\n",
        "optimizer = set_optimizer(model, lr)\n",
        "num_iter = 0\n",
        "\n",
        "# Losses per epoch\n",
        "loss_train = []\n",
        "loss_val = []\n",
        "accuracy_train = []\n",
        "accuracy_val = []\n",
        "\n",
        "for epoch in range(num_epochs):\n",
        "    loss_epoch = 0\n",
        "    for i, (inputs, labels) in enumerate(train_loader):\n",
        "        inputs, labels = inputs.to(device), labels.to(device)\n",
        "\n",
        "        # Clear gradients w.r.t. parameters\n",
        "        optimizer.zero_grad()\n",
        "\n",
        "        # Flatten image\n",
        "        img = inputs.reshape(inputs.shape[0], -1)\n",
        "\n",
        "        #Forward pass to get output\n",
        "        outputs = model(img)\n",
        "\n",
        "        # Calculate cross entropy loss\n",
        "        loss = criterion(outputs, labels)\n",
        "\n",
        "        # Getting gradients w.r.t. parameters\n",
        "        loss.backward()\n",
        "        loss_epoch += loss.item()\n",
        "\n",
        "        \n",
        "        # Updating parameters\n",
        "        optimizer.step()\n",
        "        num_iter += 1\n",
        "\n",
        "    #append the current loss and accuracy of the epoch\n",
        "    accuracy_train.append(accuracy(train_loader, model, train))\n",
        "    loss_train.append(loss_epoch / len(train_loader))\n",
        "   \n",
        "    # Validation Loss after every epoch\n",
        "    loss_epoch_val = 0\n",
        "\n",
        "    #disable gradient calculation\n",
        "    with torch.no_grad():\n",
        "      for i, (image, output_labels) in enumerate(val_loader):\n",
        "          image, output_labels = image.to(device), output_labels.to(device)\n",
        "          img = image.reshape(image.shape[0], -1)\n",
        "        \n",
        "          #Forward pass to get output\n",
        "          predictions = model(img)\n",
        "          loss = criterion(predictions, output_labels)\n",
        "          loss_epoch_val += loss.item()\n",
        "\n",
        "          \n",
        "      loss_val.append(loss_epoch_val / len(val_loader))\n",
        "      accuracy_val.append(accuracy(val_loader, model, val))\n",
        "    \n",
        "    print(f\"Epoch {epoch:3}. Training Loss: {loss_train[-1]:.4f},  Validation Loss: {loss_val[-1]:.4f}\")\n",
        "    print(f\"Epoch {epoch:3}. Training acc: {accuracy_train[-1]:.4f},  Validation acc: {accuracy_val[-1]:.4f}\")\n",
        "    print(\"---------------------------------------------------------------------------------\")\n",
        "end_time = time.time()\n",
        "print(f\"Training took {end_time-start_time} seconds for {num_epochs} epochs\")"
      ]
    },
    {
      "cell_type": "code",
      "execution_count": 10,
      "metadata": {
        "colab": {
          "base_uri": "https://localhost:8080/",
          "height": 513
        },
        "id": "Gk8Atveg2nPj",
        "outputId": "60301de2-e190-4f23-818b-1d23c3c38b25"
      },
      "outputs": [
        {
          "output_type": "display_data",
          "data": {
            "text/plain": [
              "<Figure size 1440x576 with 1 Axes>"
            ],
            "image/png": "[encoded data removed]"
          },
          "metadata": {
            "needs_background": "light"
          }
        }
      ],
      "source": [
        "# Plot Graph of Train & Val Loss vs Epoch (together in same plot) for model A\n",
        "\n",
        "plt.rcParams[\"figure.figsize\"] = (20,8)\n",
        "\n",
        "plt.plot(loss_train)\n",
        "plt.plot(loss_val)\n",
        "plt.xlabel('Epoch number')\n",
        "plt.ylabel('Loss value')\n",
        "plt.legend(['Training Set','Validation Set'])\n",
        "plt.title('Train vs Validation Loss')\n",
        "plt.show()"
      ]
    },
    {
      "cell_type": "code",
      "execution_count": 11,
      "metadata": {
        "colab": {
          "base_uri": "https://localhost:8080/",
          "height": 513
        },
        "id": "VGTWAn_22n0m",
        "outputId": "774d4858-3ca6-4f26-8702-77c9f8f004e7"
      },
      "outputs": [
        {
          "output_type": "display_data",
          "data": {
            "text/plain": [
              "<Figure size 1440x576 with 1 Axes>"
            ],
            "image/png": "[encoded data removed]"
          },
          "metadata": {
            "needs_background": "light"
          }
        }
      ],
      "source": [
        "# Plot Graph of Train & Val Accuracy vs Epoch (together in same plot) for model A\n",
        "plt.rcParams[\"figure.figsize\"] = (20,8)\n",
        "\n",
        "plt.plot(accuracy_train)\n",
        "plt.plot(accuracy_val)\n",
        "plt.xlabel('Epoch number')\n",
        "plt.ylabel('Accuracy')\n",
        "plt.legend(['Training Set','Validation Set'])\n",
        "plt.title('Training vs Validation Accuracy')\n",
        "plt.show()\n",
        "acc_A = accuracy_val[-1]#final validation accuarcy of A"
      ]
    },
    {
      "cell_type": "markdown",
      "metadata": {
        "id": "X-kUp7pk28n-"
      },
      "source": [
        "### Model B\n"
      ]
    },
    {
      "cell_type": "code",
      "execution_count": 12,
      "metadata": {
        "colab": {
          "base_uri": "https://localhost:8080/"
        },
        "id": "jCmX8PqE22XP",
        "outputId": "4e738bdd-67a5-47ea-8515-40d9b8acb3e1"
      },
      "outputs": [
        {
          "output_type": "stream",
          "name": "stdout",
          "text": [
            "cuda:0\n",
            "Epoch   0. Training Loss: 0.3222,  Validation Loss: 0.3547\n",
            "Epoch   0. Training acc: 90.9840,  Validation acc: 90.2400\n",
            "---------------------------------------------------------------------------------\n",
            "Epoch   1. Training Loss: 0.1955,  Validation Loss: 0.1933\n",
            "Epoch   1. Training acc: 95.6940,  Validation acc: 95.1000\n",
            "---------------------------------------------------------------------------------\n",
            "Epoch   2. Training Loss: 0.1684,  Validation Loss: 0.1966\n",
            "Epoch   2. Training acc: 95.6500,  Validation acc: 94.6800\n",
            "---------------------------------------------------------------------------------\n",
            "Epoch   3. Training Loss: 0.1430,  Validation Loss: 0.1822\n",
            "Epoch   3. Training acc: 96.8720,  Validation acc: 95.5200\n",
            "---------------------------------------------------------------------------------\n",
            "Epoch   4. Training Loss: 0.1408,  Validation Loss: 0.1892\n",
            "Epoch   4. Training acc: 96.3840,  Validation acc: 95.4000\n",
            "---------------------------------------------------------------------------------\n",
            "Epoch   5. Training Loss: 0.1308,  Validation Loss: 0.1829\n",
            "Epoch   5. Training acc: 96.8020,  Validation acc: 95.4800\n",
            "---------------------------------------------------------------------------------\n",
            "Epoch   6. Training Loss: 0.1147,  Validation Loss: 0.2252\n",
            "Epoch   6. Training acc: 96.6500,  Validation acc: 95.1800\n",
            "---------------------------------------------------------------------------------\n",
            "Epoch   7. Training Loss: 0.1123,  Validation Loss: 0.1729\n",
            "Epoch   7. Training acc: 97.6180,  Validation acc: 96.2600\n",
            "---------------------------------------------------------------------------------\n",
            "Epoch   8. Training Loss: 0.1107,  Validation Loss: 0.2004\n",
            "Epoch   8. Training acc: 97.5760,  Validation acc: 96.0700\n",
            "---------------------------------------------------------------------------------\n",
            "Epoch   9. Training Loss: 0.1064,  Validation Loss: 0.1785\n",
            "Epoch   9. Training acc: 97.5000,  Validation acc: 95.9500\n",
            "---------------------------------------------------------------------------------\n",
            "Epoch  10. Training Loss: 0.1056,  Validation Loss: 0.1982\n",
            "Epoch  10. Training acc: 97.0980,  Validation acc: 95.3600\n",
            "---------------------------------------------------------------------------------\n",
            "Epoch  11. Training Loss: 0.0996,  Validation Loss: 0.1831\n",
            "Epoch  11. Training acc: 97.9640,  Validation acc: 96.3100\n",
            "---------------------------------------------------------------------------------\n",
            "Epoch  12. Training Loss: 0.0912,  Validation Loss: 0.1900\n",
            "Epoch  12. Training acc: 97.6820,  Validation acc: 95.7000\n",
            "---------------------------------------------------------------------------------\n",
            "Epoch  13. Training Loss: 0.0816,  Validation Loss: 0.1813\n",
            "Epoch  13. Training acc: 98.0300,  Validation acc: 96.2700\n",
            "---------------------------------------------------------------------------------\n",
            "Epoch  14. Training Loss: 0.0908,  Validation Loss: 0.1753\n",
            "Epoch  14. Training acc: 98.1760,  Validation acc: 96.3500\n",
            "---------------------------------------------------------------------------------\n",
            "Training took 202.43224263191223 seconds for 15 epochs\n"
          ]
        }
      ],
      "source": [
        "print(device)\n",
        "\n",
        "#training loop of model B\n",
        "import time\n",
        "start_time = time.time()\n",
        "model = modelB\n",
        "model.to(device)\n",
        "\n",
        "optimizer = set_optimizer(model, lr)\n",
        "num_iter = 0\n",
        "\n",
        "# Losses per epoch\n",
        "loss_train = []\n",
        "loss_val = []\n",
        "accuracy_train = []\n",
        "accuracy_val = []\n",
        "\n",
        "for epoch in range(num_epochs):\n",
        "    loss_epoch = 0\n",
        "    for i, (inputs, labels) in enumerate(train_loader):\n",
        "        inputs, labels = inputs.to(device), labels.to(device)\n",
        "\n",
        "        # Clear gradients w.r.t. parameters\n",
        "        optimizer.zero_grad()\n",
        "\n",
        "        # Flatten image\n",
        "        img = inputs.reshape(inputs.shape[0], -1)\n",
        "\n",
        "        #Forward pass to get output\n",
        "        outputs = model(img)\n",
        "\n",
        "        # Calculate cross entropy loss\n",
        "        loss = criterion(outputs, labels)\n",
        "\n",
        "        # Getting gradients w.r.t. parameters\n",
        "        loss.backward()\n",
        "        loss_epoch += loss.item()\n",
        "\n",
        "        \n",
        "        # Updating parameters\n",
        "        optimizer.step()\n",
        "        num_iter += 1\n",
        "\n",
        "    #append the current loss and accuracy of the epoch\n",
        "    accuracy_train.append(accuracy(train_loader, model, train))\n",
        "    loss_train.append(loss_epoch / len(train_loader))\n",
        "   \n",
        "    # Validation Loss after every epoch\n",
        "    loss_epoch_val = 0\n",
        "\n",
        "    #disable gradient calculation\n",
        "    with torch.no_grad():\n",
        "      for i, (image, output_labels) in enumerate(val_loader):\n",
        "          image, output_labels = image.to(device), output_labels.to(device)\n",
        "          img = image.reshape(image.shape[0], -1)\n",
        "        \n",
        "          #Forward pass to get output\n",
        "          predictions = model(img)\n",
        "          loss = criterion(predictions, output_labels)\n",
        "          loss_epoch_val += loss.item()\n",
        "\n",
        "          \n",
        "      loss_val.append(loss_epoch_val / len(val_loader))\n",
        "      accuracy_val.append(accuracy(val_loader, model, val))\n",
        "    \n",
        "    print(f\"Epoch {epoch:3}. Training Loss: {loss_train[-1]:.4f},  Validation Loss: {loss_val[-1]:.4f}\")\n",
        "    print(f\"Epoch {epoch:3}. Training acc: {accuracy_train[-1]:.4f},  Validation acc: {accuracy_val[-1]:.4f}\")\n",
        "    print(\"---------------------------------------------------------------------------------\")\n",
        "end_time = time.time()\n",
        "print(f\"Training took {end_time-start_time} seconds for {num_epochs} epochs\")"
      ]
    },
    {
      "cell_type": "code",
      "execution_count": 13,
      "metadata": {
        "id": "9pfLjJrI22XQ",
        "colab": {
          "base_uri": "https://localhost:8080/",
          "height": 513
        },
        "outputId": "34503234-581d-42ec-f828-0dd6b512838a"
      },
      "outputs": [
        {
          "output_type": "display_data",
          "data": {
            "text/plain": [
              "<Figure size 1440x576 with 1 Axes>"
            ],
            "image/png": "[encoded data removed]"
          },
          "metadata": {
            "needs_background": "light"
          }
        }
      ],
      "source": [
        "# Plot Graph of Train & Val Loss vs Epoch (together in same plot) for model B\n",
        "\n",
        "plt.rcParams[\"figure.figsize\"] = (20,8)\n",
        "\n",
        "plt.plot(loss_train)\n",
        "plt.plot(loss_val)\n",
        "plt.xlabel('Epoch number')\n",
        "plt.ylabel('Loss value')\n",
        "plt.legend(['Training Set','Validation Set'])\n",
        "plt.title('Train vs Validation Loss')\n",
        "plt.show()"
      ]
    },
    {
      "cell_type": "code",
      "execution_count": 14,
      "metadata": {
        "id": "KOy6REpK22XQ",
        "colab": {
          "base_uri": "https://localhost:8080/",
          "height": 513
        },
        "outputId": "cab46c4d-c42e-44ce-e501-a4a178fc4486"
      },
      "outputs": [
        {
          "output_type": "display_data",
          "data": {
            "text/plain": [
              "<Figure size 1440x576 with 1 Axes>"
            ],
            "image/png": "[encoded data removed]"
          },
          "metadata": {
            "needs_background": "light"
          }
        }
      ],
      "source": [
        "# Plot Graph of Train & Val Accuracy vs Epoch (together in same plot) for model B\n",
        "plt.rcParams[\"figure.figsize\"] = (20,8)\n",
        "\n",
        "plt.plot(accuracy_train)\n",
        "plt.plot(accuracy_val)\n",
        "plt.xlabel('Epoch number')\n",
        "plt.ylabel('Accuracy')\n",
        "plt.legend(['Training Set','Validation Set'])\n",
        "plt.title('Training vs Validation Accuracy')\n",
        "plt.show()\n",
        "acc_B = accuracy_val[-1]#final validation accuarcy of B"
      ]
    },
    {
      "cell_type": "markdown",
      "metadata": {
        "id": "4JslKXgq3AUT"
      },
      "source": [
        "### Model C\n"
      ]
    },
    {
      "cell_type": "code",
      "execution_count": 15,
      "metadata": {
        "colab": {
          "base_uri": "https://localhost:8080/"
        },
        "id": "2m3w2F5J22mq",
        "outputId": "a96d3658-632c-4445-c3c6-146223a82918"
      },
      "outputs": [
        {
          "output_type": "stream",
          "name": "stdout",
          "text": [
            "cuda:0\n",
            "Epoch   0. Training Loss: 0.3799,  Validation Loss: 0.2709\n",
            "Epoch   0. Training acc: 94.1000,  Validation acc: 93.3200\n",
            "---------------------------------------------------------------------------------\n",
            "Epoch   1. Training Loss: 0.2426,  Validation Loss: 0.3225\n",
            "Epoch   1. Training acc: 94.3480,  Validation acc: 93.3100\n",
            "---------------------------------------------------------------------------------\n",
            "Epoch   2. Training Loss: 0.2084,  Validation Loss: 0.2105\n",
            "Epoch   2. Training acc: 96.0320,  Validation acc: 94.5700\n",
            "---------------------------------------------------------------------------------\n",
            "Epoch   3. Training Loss: 0.1827,  Validation Loss: 0.2125\n",
            "Epoch   3. Training acc: 95.6340,  Validation acc: 94.3700\n",
            "---------------------------------------------------------------------------------\n",
            "Epoch   4. Training Loss: 0.1674,  Validation Loss: 0.2008\n",
            "Epoch   4. Training acc: 96.3080,  Validation acc: 94.8700\n",
            "---------------------------------------------------------------------------------\n",
            "Epoch   5. Training Loss: 0.1557,  Validation Loss: 0.1975\n",
            "Epoch   5. Training acc: 96.2320,  Validation acc: 95.1800\n",
            "---------------------------------------------------------------------------------\n",
            "Epoch   6. Training Loss: 0.1468,  Validation Loss: 0.2177\n",
            "Epoch   6. Training acc: 96.3480,  Validation acc: 94.8600\n",
            "---------------------------------------------------------------------------------\n",
            "Epoch   7. Training Loss: 0.1580,  Validation Loss: 0.1950\n",
            "Epoch   7. Training acc: 96.9160,  Validation acc: 95.3500\n",
            "---------------------------------------------------------------------------------\n",
            "Epoch   8. Training Loss: 0.1431,  Validation Loss: 0.2035\n",
            "Epoch   8. Training acc: 96.8860,  Validation acc: 95.2500\n",
            "---------------------------------------------------------------------------------\n",
            "Epoch   9. Training Loss: 0.1462,  Validation Loss: 0.2086\n",
            "Epoch   9. Training acc: 96.8760,  Validation acc: 95.4300\n",
            "---------------------------------------------------------------------------------\n",
            "Epoch  10. Training Loss: 0.1293,  Validation Loss: 0.2624\n",
            "Epoch  10. Training acc: 96.6040,  Validation acc: 95.2100\n",
            "---------------------------------------------------------------------------------\n",
            "Epoch  11. Training Loss: 0.1352,  Validation Loss: 0.2202\n",
            "Epoch  11. Training acc: 96.6600,  Validation acc: 95.0300\n",
            "---------------------------------------------------------------------------------\n",
            "Epoch  12. Training Loss: 0.1326,  Validation Loss: 0.1988\n",
            "Epoch  12. Training acc: 97.5560,  Validation acc: 95.6500\n",
            "---------------------------------------------------------------------------------\n",
            "Epoch  13. Training Loss: 0.1268,  Validation Loss: 0.1948\n",
            "Epoch  13. Training acc: 97.6800,  Validation acc: 95.8400\n",
            "---------------------------------------------------------------------------------\n",
            "Epoch  14. Training Loss: 0.1075,  Validation Loss: 0.2578\n",
            "Epoch  14. Training acc: 96.7720,  Validation acc: 94.8600\n",
            "---------------------------------------------------------------------------------\n",
            "Training took 207.23632621765137 seconds for 15 epochs\n"
          ]
        }
      ],
      "source": [
        "print(device)\n",
        "\n",
        "#training loop of model C\n",
        "import time\n",
        "start_time = time.time()\n",
        "model = modelC\n",
        "model.to(device)\n",
        "\n",
        "optimizer = set_optimizer(model, lr)\n",
        "num_iter = 0\n",
        "\n",
        "# Losses per epoch\n",
        "loss_train = []\n",
        "loss_val = []\n",
        "accuracy_train = []\n",
        "accuracy_val = []\n",
        "\n",
        "for epoch in range(num_epochs):\n",
        "    loss_epoch = 0\n",
        "    for i, (inputs, labels) in enumerate(train_loader):\n",
        "        inputs, labels = inputs.to(device), labels.to(device)\n",
        "\n",
        "        # Clear gradients w.r.t. parameters\n",
        "        optimizer.zero_grad()\n",
        "\n",
        "        # Flatten image\n",
        "        img = inputs.reshape(inputs.shape[0], -1)\n",
        "\n",
        "        #Forward pass to get output\n",
        "        outputs = model(img)\n",
        "\n",
        "        # Calculate cross entropy loss\n",
        "        loss = criterion(outputs, labels)\n",
        "\n",
        "        # Getting gradients w.r.t. parameters\n",
        "        loss.backward()\n",
        "        loss_epoch += loss.item()\n",
        "\n",
        "        \n",
        "        # Updating parameters\n",
        "        optimizer.step()\n",
        "        num_iter += 1\n",
        "\n",
        "    #append the current loss and accuracy of the epoch\n",
        "    accuracy_train.append(accuracy(train_loader, model, train))\n",
        "    loss_train.append(loss_epoch / len(train_loader))\n",
        "   \n",
        "    # Validation Loss after every epoch\n",
        "    loss_epoch_val = 0\n",
        "\n",
        "    #disable gradient calculation\n",
        "    with torch.no_grad():\n",
        "      for i, (image, output_labels) in enumerate(val_loader):\n",
        "          image, output_labels = image.to(device), output_labels.to(device)\n",
        "          img = image.reshape(image.shape[0], -1)\n",
        "        \n",
        "          #Forward pass to get output\n",
        "          predictions = model(img)\n",
        "          loss = criterion(predictions, output_labels)\n",
        "          loss_epoch_val += loss.item()\n",
        "\n",
        "          \n",
        "      loss_val.append(loss_epoch_val / len(val_loader))\n",
        "      accuracy_val.append(accuracy(val_loader, model, val))\n",
        "    \n",
        "    print(f\"Epoch {epoch:3}. Training Loss: {loss_train[-1]:.4f},  Validation Loss: {loss_val[-1]:.4f}\")\n",
        "    print(f\"Epoch {epoch:3}. Training acc: {accuracy_train[-1]:.4f},  Validation acc: {accuracy_val[-1]:.4f}\")\n",
        "    print(\"---------------------------------------------------------------------------------\")\n",
        "end_time = time.time()\n",
        "print(f\"Training took {end_time-start_time} seconds for {num_epochs} epochs\")"
      ]
    },
    {
      "cell_type": "code",
      "execution_count": 16,
      "metadata": {
        "id": "eN5XtgCl22mq",
        "colab": {
          "base_uri": "https://localhost:8080/",
          "height": 513
        },
        "outputId": "d14cc21e-b58f-4ea6-ca75-5e581492cbfc"
      },
      "outputs": [
        {
          "output_type": "display_data",
          "data": {
            "text/plain": [
              "<Figure size 1440x576 with 1 Axes>"
            ],
            "image/png": "[encoded data removed]"
          },
          "metadata": {
            "needs_background": "light"
          }
        }
      ],
      "source": [
        "# Plot Graph of Train & Val Loss vs Epoch (together in same plot) for model C\n",
        "\n",
        "plt.rcParams[\"figure.figsize\"] = (20,8)\n",
        "\n",
        "plt.plot(loss_train)\n",
        "plt.plot(loss_val)\n",
        "plt.xlabel('Epoch number')\n",
        "plt.ylabel('Loss value')\n",
        "plt.legend(['Training Set','Validation Set'])\n",
        "plt.title('Train vs Validation Loss')\n",
        "plt.show()"
      ]
    },
    {
      "cell_type": "code",
      "execution_count": 17,
      "metadata": {
        "id": "xwOen7-V22mr",
        "colab": {
          "base_uri": "https://localhost:8080/",
          "height": 513
        },
        "outputId": "c7519b21-a9b5-4bbb-a2cd-3cde25a48015"
      },
      "outputs": [
        {
          "output_type": "display_data",
          "data": {
            "text/plain": [
              "<Figure size 1440x576 with 1 Axes>"
            ],
            "image/png": "[encoded data removed]"
          },
          "metadata": {
            "needs_background": "light"
          }
        }
      ],
      "source": [
        "# Plot Graph of Train & Val Accuracy vs Epoch (together in same plot) for model C\n",
        "plt.rcParams[\"figure.figsize\"] = (20,8)\n",
        "\n",
        "plt.plot(accuracy_train)\n",
        "plt.plot(accuracy_val)\n",
        "plt.xlabel('Epoch number')\n",
        "plt.ylabel('Accuracy')\n",
        "plt.legend(['Training Set','Validation Set'])\n",
        "plt.title('Training vs Validation Accuracy')\n",
        "plt.show()\n",
        "acc_C = accuracy_val[-1]#final validation accuarcy of C"
      ]
    },
    {
      "cell_type": "markdown",
      "metadata": {
        "id": "AZuT5E_r3LbK"
      },
      "source": [
        "## Choosing a Activation Function [10 marks]\n",
        "\n",
        "Based on the best performing model you found above, define 2 more models with these 2 activation functions (1 activation function is used throughout the model definiation). Use these Activation funcitons \n",
        "\n",
        "\n",
        "*   Tanh\n",
        "*   LeakyRELU"
      ]
    },
    {
      "cell_type": "code",
      "execution_count": 18,
      "metadata": {
        "id": "uhAK1dvg3vkf",
        "colab": {
          "base_uri": "https://localhost:8080/"
        },
        "outputId": "e4f5891f-7503-4eec-9dca-5d945a681ea1"
      },
      "outputs": [
        {
          "output_type": "stream",
          "name": "stdout",
          "text": [
            "Sequential(\n",
            "  (0): Linear(in_features=784, out_features=64, bias=True)\n",
            "  (1): LeakyReLU(negative_slope=0.01)\n",
            "  (2): Linear(in_features=64, out_features=128, bias=True)\n",
            "  (3): LeakyReLU(negative_slope=0.01)\n",
            "  (4): Linear(in_features=128, out_features=256, bias=True)\n",
            "  (5): LeakyReLU(negative_slope=0.01)\n",
            "  (6): Linear(in_features=256, out_features=10, bias=True)\n",
            ")\n",
            "Sequential(\n",
            "  (0): Linear(in_features=784, out_features=64, bias=True)\n",
            "  (1): Tanh()\n",
            "  (2): Linear(in_features=64, out_features=128, bias=True)\n",
            "  (3): Tanh()\n",
            "  (4): Linear(in_features=128, out_features=256, bias=True)\n",
            "  (5): Tanh()\n",
            "  (6): Linear(in_features=256, out_features=10, bias=True)\n",
            ")\n"
          ]
        }
      ],
      "source": [
        "acc = [acc_A, acc_B, acc_C]\n",
        "mod = [modelA, modelB, modelC]\n",
        "max_value = max(acc)\n",
        "model_relu = mod[acc.index(max_value)]\n",
        "input_size = 784 # 28x28\n",
        "hidden_size_1 = 64\n",
        "hidden_size_2 = 128\n",
        "hidden_size_3 = 256\n",
        "hidden_size_4 = 512\n",
        "output_size = 10\n",
        "\n",
        "# Leaky ReLU model definiton\n",
        "\n",
        "# Tanh model definition\n",
        "\n",
        "\n",
        "# Maintain these variable names\n",
        "if model_relu== modelA:\n",
        "  model_lrelu = nn.Sequential(\n",
        "    nn.Linear(input_size, hidden_size_1),\n",
        "    nn.LeakyReLU(),\n",
        "    nn.Linear(hidden_size_1, hidden_size_2),\n",
        "    nn.LeakyReLU(),\n",
        "    nn.Linear(hidden_size_2, output_size)\n",
        "    )\n",
        "  model_tanh = nn.Sequential(\n",
        "    nn.Linear(input_size, hidden_size_1),\n",
        "    nn.Tanh(),\n",
        "    nn.Linear(hidden_size_1, hidden_size_2),\n",
        "    nn.Tanh(),\n",
        "    nn.Linear(hidden_size_2, output_size)\n",
        "  )\n",
        "elif model_relu==modelB:\n",
        "  model_lrelu = nn.Sequential(\n",
        "    nn.Linear(input_size, hidden_size_1),\n",
        "    nn.LeakyReLU(),\n",
        "    nn.Linear(hidden_size_1, hidden_size_2),\n",
        "    nn.LeakyReLU(),\n",
        "    nn.Linear(hidden_size_2, hidden_size_3),\n",
        "    nn.LeakyReLU(),\n",
        "    nn.Linear(hidden_size_3, output_size)\n",
        "  )\n",
        "  model_tanh = nn.Sequential(\n",
        "    nn.Linear(input_size, hidden_size_1),\n",
        "    nn.Tanh(),\n",
        "    nn.Linear(hidden_size_1, hidden_size_2),\n",
        "    nn.Tanh(),\n",
        "    nn.Linear(hidden_size_2, hidden_size_3),\n",
        "    nn.Tanh(),\n",
        "    nn.Linear(hidden_size_3, output_size)\n",
        "  )\n",
        "else:\n",
        "  model_lrelu = nn.Sequential(\n",
        "    nn.Linear(input_size, hidden_size_1),\n",
        "    nn.LeakyReLU(),\n",
        "    nn.Linear(hidden_size_1, hidden_size_2),\n",
        "    nn.LeakyReLU(),\n",
        "    nn.Linear(hidden_size_2, hidden_size_3),\n",
        "    nn.LeakyReLU(),\n",
        "    nn.Linear(hidden_size_3, hidden_size_4),\n",
        "    nn.LeakyReLU(),\n",
        "    nn.Linear(hidden_size_4, output_size)\n",
        "  )\n",
        "  model_tanh = nn.Sequential(\n",
        "    nn.Linear(input_size, hidden_size_1),\n",
        "    nn.Tanh(),\n",
        "    nn.Linear(hidden_size_1, hidden_size_2),\n",
        "    nn.Tanh(),\n",
        "    nn.Linear(hidden_size_2, hidden_size_3),\n",
        "    nn.Tanh(),\n",
        "    nn.Linear(hidden_size_3, hidden_size_4),\n",
        "    nn.Tanh(),\n",
        "    nn.Linear(hidden_size_4, output_size)\n",
        ")\n",
        "print(model_lrelu)\n",
        "print(model_tanh)"
      ]
    },
    {
      "cell_type": "markdown",
      "metadata": {
        "id": "3P1fzs0P4Anx"
      },
      "source": [
        "### Training \n",
        "\n",
        "Train these two models with the same hyperparameters. Train in separate cells given below, and report the same metrics descrived previously (train_loss, val_loss, train_acc, val_acc)"
      ]
    },
    {
      "cell_type": "code",
      "execution_count": 19,
      "metadata": {
        "id": "-OAT_Rx64T0a",
        "colab": {
          "base_uri": "https://localhost:8080/"
        },
        "outputId": "bea18823-7c31-4565-9286-edb23adbae50"
      },
      "outputs": [
        {
          "output_type": "stream",
          "name": "stdout",
          "text": [
            "cuda:0\n",
            "Epoch   0. Training Loss: 0.3124,  Validation Loss: 0.2631\n",
            "Epoch   0. Training acc: 93.8020,  Validation acc: 92.5100\n",
            "---------------------------------------------------------------------------------\n",
            "Epoch   1. Training Loss: 0.2008,  Validation Loss: 0.1943\n",
            "Epoch   1. Training acc: 95.8420,  Validation acc: 94.8500\n",
            "---------------------------------------------------------------------------------\n",
            "Epoch   2. Training Loss: 0.1759,  Validation Loss: 0.2328\n",
            "Epoch   2. Training acc: 95.7700,  Validation acc: 94.7100\n",
            "---------------------------------------------------------------------------------\n",
            "Epoch   3. Training Loss: 0.1599,  Validation Loss: 0.2138\n",
            "Epoch   3. Training acc: 96.2860,  Validation acc: 95.1600\n",
            "---------------------------------------------------------------------------------\n",
            "Epoch   4. Training Loss: 0.1410,  Validation Loss: 0.1736\n",
            "Epoch   4. Training acc: 96.6680,  Validation acc: 95.4000\n",
            "---------------------------------------------------------------------------------\n",
            "Epoch   5. Training Loss: 0.1186,  Validation Loss: 0.1817\n",
            "Epoch   5. Training acc: 97.3600,  Validation acc: 96.1000\n",
            "---------------------------------------------------------------------------------\n",
            "Epoch   6. Training Loss: 0.1116,  Validation Loss: 0.1996\n",
            "Epoch   6. Training acc: 97.0560,  Validation acc: 95.3300\n",
            "---------------------------------------------------------------------------------\n",
            "Epoch   7. Training Loss: 0.1045,  Validation Loss: 0.1727\n",
            "Epoch   7. Training acc: 97.2520,  Validation acc: 95.7500\n",
            "---------------------------------------------------------------------------------\n",
            "Epoch   8. Training Loss: 0.0996,  Validation Loss: 0.1974\n",
            "Epoch   8. Training acc: 96.8260,  Validation acc: 95.2200\n",
            "---------------------------------------------------------------------------------\n",
            "Epoch   9. Training Loss: 0.1298,  Validation Loss: 0.1773\n",
            "Epoch   9. Training acc: 97.6760,  Validation acc: 95.9300\n",
            "---------------------------------------------------------------------------------\n",
            "Epoch  10. Training Loss: 0.0928,  Validation Loss: 0.2088\n",
            "Epoch  10. Training acc: 96.9320,  Validation acc: 95.2800\n",
            "---------------------------------------------------------------------------------\n",
            "Epoch  11. Training Loss: 0.1441,  Validation Loss: 0.2701\n",
            "Epoch  11. Training acc: 96.5560,  Validation acc: 95.0300\n",
            "---------------------------------------------------------------------------------\n",
            "Epoch  12. Training Loss: 0.0940,  Validation Loss: 0.2014\n",
            "Epoch  12. Training acc: 98.2460,  Validation acc: 96.3200\n",
            "---------------------------------------------------------------------------------\n",
            "Epoch  13. Training Loss: 0.0772,  Validation Loss: 0.2182\n",
            "Epoch  13. Training acc: 97.1140,  Validation acc: 95.4000\n",
            "---------------------------------------------------------------------------------\n",
            "Epoch  14. Training Loss: 0.1943,  Validation Loss: 0.4205\n",
            "Epoch  14. Training acc: 95.6840,  Validation acc: 93.9300\n",
            "---------------------------------------------------------------------------------\n",
            "Training took 202.55272126197815 seconds for 15 epochs\n"
          ]
        }
      ],
      "source": [
        "print(device)\n",
        "\n",
        "#training loop of model leaky relu\n",
        "import time\n",
        "start_time = time.time()\n",
        "model = model_lrelu\n",
        "model.to(device)\n",
        "\n",
        "optimizer = set_optimizer(model, lr)\n",
        "num_iter = 0\n",
        "\n",
        "# Losses per epoch\n",
        "loss_train = []\n",
        "loss_val = []\n",
        "accuracy_train = []\n",
        "accuracy_val = []\n",
        "\n",
        "for epoch in range(num_epochs):\n",
        "    loss_epoch = 0\n",
        "    for i, (inputs, labels) in enumerate(train_loader):\n",
        "        inputs, labels = inputs.to(device), labels.to(device)\n",
        "\n",
        "        # Clear gradients w.r.t. parameters\n",
        "        optimizer.zero_grad()\n",
        "\n",
        "        # Flatten image\n",
        "        img = inputs.reshape(inputs.shape[0], -1)\n",
        "\n",
        "        #Forward pass to get output\n",
        "        outputs = model(img)\n",
        "\n",
        "        # Calculate cross entropy loss\n",
        "        loss = criterion(outputs, labels)\n",
        "\n",
        "        # Getting gradients w.r.t. parameters\n",
        "        loss.backward()\n",
        "        loss_epoch += loss.item()\n",
        "\n",
        "        \n",
        "        # Updating parameters\n",
        "        optimizer.step()\n",
        "        num_iter += 1\n",
        "\n",
        "    #append the current loss and accuracy of the epoch\n",
        "    accuracy_train.append(accuracy(train_loader, model, train))\n",
        "    loss_train.append(loss_epoch / len(train_loader))\n",
        "   \n",
        "    # Validation Loss after every epoch\n",
        "    loss_epoch_val = 0\n",
        "\n",
        "    #disable gradient calculation\n",
        "    with torch.no_grad():\n",
        "      for i, (image, output_labels) in enumerate(val_loader):\n",
        "          image, output_labels = image.to(device), output_labels.to(device)\n",
        "          img = image.reshape(image.shape[0], -1)\n",
        "        \n",
        "          #Forward pass to get output\n",
        "          predictions = model(img)\n",
        "          loss = criterion(predictions, output_labels)\n",
        "          loss_epoch_val += loss.item()\n",
        "\n",
        "          \n",
        "      loss_val.append(loss_epoch_val / len(val_loader))\n",
        "      accuracy_val.append(accuracy(val_loader, model, val))\n",
        "    \n",
        "    print(f\"Epoch {epoch:3}. Training Loss: {loss_train[-1]:.4f},  Validation Loss: {loss_val[-1]:.4f}\")\n",
        "    print(f\"Epoch {epoch:3}. Training acc: {accuracy_train[-1]:.4f},  Validation acc: {accuracy_val[-1]:.4f}\")\n",
        "    print(\"---------------------------------------------------------------------------------\")\n",
        "end_time = time.time()\n",
        "print(f\"Training took {end_time-start_time} seconds for {num_epochs} epochs\")"
      ]
    },
    {
      "cell_type": "code",
      "execution_count": 20,
      "metadata": {
        "id": "QuobAEP44Wrz",
        "colab": {
          "base_uri": "https://localhost:8080/"
        },
        "outputId": "c999ea70-cd25-4c76-fca7-346906c2cec4"
      },
      "outputs": [
        {
          "output_type": "stream",
          "name": "stdout",
          "text": [
            "cuda:0\n",
            "Epoch   0. Training Loss: 0.3809,  Validation Loss: 0.3106\n",
            "Epoch   0. Training acc: 91.7980,  Validation acc: 91.0100\n",
            "---------------------------------------------------------------------------------\n",
            "Epoch   1. Training Loss: 0.2716,  Validation Loss: 0.3376\n",
            "Epoch   1. Training acc: 92.0940,  Validation acc: 91.1200\n",
            "---------------------------------------------------------------------------------\n",
            "Epoch   2. Training Loss: 0.2967,  Validation Loss: 0.2738\n",
            "Epoch   2. Training acc: 93.0980,  Validation acc: 92.2600\n",
            "---------------------------------------------------------------------------------\n",
            "Epoch   3. Training Loss: 0.2859,  Validation Loss: 0.2761\n",
            "Epoch   3. Training acc: 93.7380,  Validation acc: 92.8200\n",
            "---------------------------------------------------------------------------------\n",
            "Epoch   4. Training Loss: 0.2790,  Validation Loss: 0.3321\n",
            "Epoch   4. Training acc: 92.4100,  Validation acc: 91.3000\n",
            "---------------------------------------------------------------------------------\n",
            "Epoch   5. Training Loss: 0.2751,  Validation Loss: 0.3173\n",
            "Epoch   5. Training acc: 93.0080,  Validation acc: 91.6900\n",
            "---------------------------------------------------------------------------------\n",
            "Epoch   6. Training Loss: 0.2948,  Validation Loss: 0.3211\n",
            "Epoch   6. Training acc: 92.9880,  Validation acc: 92.3900\n",
            "---------------------------------------------------------------------------------\n",
            "Epoch   7. Training Loss: 0.2822,  Validation Loss: 0.3275\n",
            "Epoch   7. Training acc: 92.1820,  Validation acc: 91.6200\n",
            "---------------------------------------------------------------------------------\n",
            "Epoch   8. Training Loss: 0.2879,  Validation Loss: 0.3683\n",
            "Epoch   8. Training acc: 92.1520,  Validation acc: 91.4200\n",
            "---------------------------------------------------------------------------------\n",
            "Epoch   9. Training Loss: 0.2942,  Validation Loss: 0.3336\n",
            "Epoch   9. Training acc: 92.7700,  Validation acc: 91.7400\n",
            "---------------------------------------------------------------------------------\n",
            "Epoch  10. Training Loss: 0.2834,  Validation Loss: 0.3849\n",
            "Epoch  10. Training acc: 91.8980,  Validation acc: 90.6000\n",
            "---------------------------------------------------------------------------------\n",
            "Epoch  11. Training Loss: 0.2801,  Validation Loss: 0.3002\n",
            "Epoch  11. Training acc: 93.3060,  Validation acc: 92.6700\n",
            "---------------------------------------------------------------------------------\n",
            "Epoch  12. Training Loss: 0.2750,  Validation Loss: 0.2861\n",
            "Epoch  12. Training acc: 94.4520,  Validation acc: 93.1100\n",
            "---------------------------------------------------------------------------------\n",
            "Epoch  13. Training Loss: 0.2734,  Validation Loss: 0.3328\n",
            "Epoch  13. Training acc: 91.9640,  Validation acc: 91.1100\n",
            "---------------------------------------------------------------------------------\n",
            "Epoch  14. Training Loss: 0.3019,  Validation Loss: 0.3117\n",
            "Epoch  14. Training acc: 92.1860,  Validation acc: 91.3000\n",
            "---------------------------------------------------------------------------------\n",
            "Training took 202.39497995376587 seconds for 15 epochs\n"
          ]
        }
      ],
      "source": [
        "print(device)\n",
        "\n",
        "#training loop of model tanh\n",
        "import time\n",
        "start_time = time.time()\n",
        "model = model_tanh\n",
        "model.to(device)\n",
        "\n",
        "optimizer = set_optimizer(model, lr)\n",
        "num_iter = 0\n",
        "\n",
        "# Losses per epoch\n",
        "loss_train = []\n",
        "loss_val = []\n",
        "accuracy_train = []\n",
        "accuracy_val = []\n",
        "\n",
        "for epoch in range(num_epochs):\n",
        "    loss_epoch = 0\n",
        "    for i, (inputs, labels) in enumerate(train_loader):\n",
        "        inputs, labels = inputs.to(device), labels.to(device)\n",
        "\n",
        "        # Clear gradients w.r.t. parameters\n",
        "        optimizer.zero_grad()\n",
        "\n",
        "        # Flatten image\n",
        "        img = inputs.reshape(inputs.shape[0], -1)\n",
        "\n",
        "        #Forward pass to get output\n",
        "        outputs = model(img)\n",
        "\n",
        "        # Calculate cross entropy loss\n",
        "        loss = criterion(outputs, labels)\n",
        "\n",
        "        # Getting gradients w.r.t. parameters\n",
        "        loss.backward()\n",
        "        loss_epoch += loss.item()\n",
        "\n",
        "        \n",
        "        # Updating parameters\n",
        "        optimizer.step()\n",
        "        num_iter += 1\n",
        "\n",
        "    #append the current loss and accuracy of the epoch\n",
        "    accuracy_train.append(accuracy(train_loader, model, train))\n",
        "    loss_train.append(loss_epoch / len(train_loader))\n",
        "   \n",
        "    # Validation Loss after every epoch\n",
        "    loss_epoch_val = 0\n",
        "\n",
        "    #disable gradient calculation\n",
        "    with torch.no_grad():\n",
        "      for i, (image, output_labels) in enumerate(val_loader):\n",
        "          image, output_labels = image.to(device), output_labels.to(device)\n",
        "          img = image.reshape(image.shape[0], -1)\n",
        "        \n",
        "          #Forward pass to get output\n",
        "          predictions = model(img)\n",
        "          loss = criterion(predictions, output_labels)\n",
        "          loss_epoch_val += loss.item()\n",
        "\n",
        "          \n",
        "      loss_val.append(loss_epoch_val / len(val_loader))\n",
        "      accuracy_val.append(accuracy(val_loader, model, val))\n",
        "    \n",
        "    print(f\"Epoch {epoch:3}. Training Loss: {loss_train[-1]:.4f},  Validation Loss: {loss_val[-1]:.4f}\")\n",
        "    print(f\"Epoch {epoch:3}. Training acc: {accuracy_train[-1]:.4f},  Validation acc: {accuracy_val[-1]:.4f}\")\n",
        "    print(\"---------------------------------------------------------------------------------\")\n",
        "end_time = time.time()\n",
        "print(f\"Training took {end_time-start_time} seconds for {num_epochs} epochs\")"
      ]
    },
    {
      "cell_type": "markdown",
      "metadata": {
        "id": "WjH0LdKA4tYW"
      },
      "source": [
        "### Results on Test Set\n",
        "\n",
        "Report the Test Set classfication accuracy for the three activation functions (ReLU, LeakyReLU & TanH) and state which activation function gave the best performance on test set"
      ]
    },
    {
      "cell_type": "code",
      "execution_count": 21,
      "metadata": {
        "id": "gFeLvSrN4vT_"
      },
      "outputs": [],
      "source": [
        "# Define how to calculate Accuracy on Test Set\n",
        "def test_loss(model):\n",
        "  model.to(device)   \n",
        "  accuracy_test = accuracy(test_loader, model, test_data)\n",
        "  print(f\" Test Accuracy: {accuracy_test:.4f}\")"
      ]
    },
    {
      "cell_type": "code",
      "execution_count": 22,
      "metadata": {
        "id": "q8dhJf4W7cKu",
        "colab": {
          "base_uri": "https://localhost:8080/"
        },
        "outputId": "40b4daff-2990-4407-ef0f-bd6547675d28"
      },
      "outputs": [
        {
          "output_type": "stream",
          "name": "stdout",
          "text": [
            " Test Accuracy: 96.7300\n"
          ]
        }
      ],
      "source": [
        "# Accuracy of RELU model\n",
        "test_loss(model=model_relu)"
      ]
    },
    {
      "cell_type": "code",
      "execution_count": 23,
      "metadata": {
        "id": "Uouc_R9t7cV3",
        "colab": {
          "base_uri": "https://localhost:8080/"
        },
        "outputId": "df2f15e4-697e-46e1-e238-7dacbe5554e6"
      },
      "outputs": [
        {
          "output_type": "stream",
          "name": "stdout",
          "text": [
            " Test Accuracy: 91.7900\n"
          ]
        }
      ],
      "source": [
        "# Accuracy of TanH model\n",
        "test_loss(model = model_tanh)"
      ]
    },
    {
      "cell_type": "code",
      "execution_count": 24,
      "metadata": {
        "id": "tjLBwh577chM",
        "colab": {
          "base_uri": "https://localhost:8080/"
        },
        "outputId": "cf2d4b36-168f-40a3-ee4d-19064d029753"
      },
      "outputs": [
        {
          "output_type": "stream",
          "name": "stdout",
          "text": [
            " Test Accuracy: 94.6200\n"
          ]
        }
      ],
      "source": [
        "# Accuracy of LeakyReLU model\n",
        "test_loss(model = model_lrelu)"
      ]
    },
    {
      "cell_type": "markdown",
      "metadata": {
        "id": "5xelRHJV7Lmj"
      },
      "source": [
        "Fill in these with the values you obtained from training.\n",
        "\n",
        "* ReLU model Test Set Accuracy: `96.7300` %\n",
        "* TanH model Test Set Accuracy: `91.7900` %\n",
        "* LeakReLU model Test Set Accuracy: `94.6200` %"
      ]
    }
  ],
  "metadata": {
    "accelerator": "GPU",
    "colab": {
      "provenance": []
    },
    "gpuClass": "standard",
    "kernelspec": {
      "display_name": "Python 3",
      "name": "python3"
    },
    "language_info": {
      "name": "python"
    },
    "nteract": {
      "version": "nteract-front-end@1.0.0"
    },
    "widgets": {
      "application/vnd.jupyter.widget-state+json": {
        "eb5e18a98eb8411c94c520bf6119070b": {
          "model_module": "@jupyter-widgets/controls",
          "model_name": "HBoxModel",
          "model_module_version": "1.5.0",
          "state": {
            "_dom_classes": [],
            "_model_module": "@jupyter-widgets/controls",
            "_model_module_version": "1.5.0",
            "_model_name": "HBoxModel",
            "_view_count": null,
            "_view_module": "@jupyter-widgets/controls",
            "_view_module_version": "1.5.0",
            "_view_name": "HBoxView",
            "box_style": "",
            "children": [
              "IPY_MODEL_4cc0efd8efdc43c49aadaa33b0e49c19",
              "IPY_MODEL_92f597abd5754895aafaefc6a1186edf",
              "IPY_MODEL_55d4971dec174aa98ec87ae59650e5f1"
            ],
            "layout": "IPY_MODEL_c52c02b0b08a44e38be1fd422c4f503f"
          }
        },
        "4cc0efd8efdc43c49aadaa33b0e49c19": {
          "model_module": "@jupyter-widgets/controls",
          "model_name": "HTMLModel",
          "model_module_version": "1.5.0",
          "state": {
            "_dom_classes": [],
            "_model_module": "@jupyter-widgets/controls",
            "_model_module_version": "1.5.0",
            "_model_name": "HTMLModel",
            "_view_count": null,
            "_view_module": "@jupyter-widgets/controls",
            "_view_module_version": "1.5.0",
            "_view_name": "HTMLView",
            "description": "",
            "description_tooltip": null,
            "layout": "IPY_MODEL_01b53c9b22794940bf2b264186e4a60b",
            "placeholder": "​",
            "style": "IPY_MODEL_a6328f1bd989421bb7b0996378f12f56",
            "value": "100%"
          }
        },
        "92f597abd5754895aafaefc6a1186edf": {
          "model_module": "@jupyter-widgets/controls",
          "model_name": "FloatProgressModel",
          "model_module_version": "1.5.0",
          "state": {
            "_dom_classes": [],
            "_model_module": "@jupyter-widgets/controls",
            "_model_module_version": "1.5.0",
            "_model_name": "FloatProgressModel",
            "_view_count": null,
            "_view_module": "@jupyter-widgets/controls",
            "_view_module_version": "1.5.0",
            "_view_name": "ProgressView",
            "bar_style": "success",
            "description": "",
            "description_tooltip": null,
            "layout": "IPY_MODEL_ce5619c6222e4267a11e850aeda4a9c0",
            "max": 9912422,
            "min": 0,
            "orientation": "horizontal",
            "style": "IPY_MODEL_c2fd055b18524aba9a356ca30f07a7b5",
            "value": 9912422
          }
        },
        "55d4971dec174aa98ec87ae59650e5f1": {
          "model_module": "@jupyter-widgets/controls",
          "model_name": "HTMLModel",
          "model_module_version": "1.5.0",
          "state": {
            "_dom_classes": [],
            "_model_module": "@jupyter-widgets/controls",
            "_model_module_version": "1.5.0",
            "_model_name": "HTMLModel",
            "_view_count": null,
            "_view_module": "@jupyter-widgets/controls",
            "_view_module_version": "1.5.0",
            "_view_name": "HTMLView",
            "description": "",
            "description_tooltip": null,
            "layout": "IPY_MODEL_4afa2ac4eca24177a83ebbd011ecf5d9",
            "placeholder": "​",
            "style": "IPY_MODEL_5d7f966887394db7b49f298d305316a1",
            "value": " 9912422/9912422 [00:00&lt;00:00, 213132266.59it/s]"
          }
        },
        "c52c02b0b08a44e38be1fd422c4f503f": {
          "model_module": "@jupyter-widgets/base",
          "model_name": "LayoutModel",
          "model_module_version": "1.2.0",
          "state": {
            "_model_module": "@jupyter-widgets/base",
            "_model_module_version": "1.2.0",
            "_model_name": "LayoutModel",
            "_view_count": null,
            "_view_module": "@jupyter-widgets/base",
            "_view_module_version": "1.2.0",
            "_view_name": "LayoutView",
            "align_content": null,
            "align_items": null,
            "align_self": null,
            "border": null,
            "bottom": null,
            "display": null,
            "flex": null,
            "flex_flow": null,
            "grid_area": null,
            "grid_auto_columns": null,
            "grid_auto_flow": null,
            "grid_auto_rows": null,
            "grid_column": null,
            "grid_gap": null,
            "grid_row": null,
            "grid_template_areas": null,
            "grid_template_columns": null,
            "grid_template_rows": null,
            "height": null,
            "justify_content": null,
            "justify_items": null,
            "left": null,
            "margin": null,
            "max_height": null,
            "max_width": null,
            "min_height": null,
            "min_width": null,
            "object_fit": null,
            "object_position": null,
            "order": null,
            "overflow": null,
            "overflow_x": null,
            "overflow_y": null,
            "padding": null,
            "right": null,
            "top": null,
            "visibility": null,
            "width": null
          }
        },
        "01b53c9b22794940bf2b264186e4a60b": {
          "model_module": "@jupyter-widgets/base",
          "model_name": "LayoutModel",
          "model_module_version": "1.2.0",
          "state": {
            "_model_module": "@jupyter-widgets/base",
            "_model_module_version": "1.2.0",
            "_model_name": "LayoutModel",
            "_view_count": null,
            "_view_module": "@jupyter-widgets/base",
            "_view_module_version": "1.2.0",
            "_view_name": "LayoutView",
            "align_content": null,
            "align_items": null,
            "align_self": null,
            "border": null,
            "bottom": null,
            "display": null,
            "flex": null,
            "flex_flow": null,
            "grid_area": null,
            "grid_auto_columns": null,
            "grid_auto_flow": null,
            "grid_auto_rows": null,
            "grid_column": null,
            "grid_gap": null,
            "grid_row": null,
            "grid_template_areas": null,
            "grid_template_columns": null,
            "grid_template_rows": null,
            "height": null,
            "justify_content": null,
            "justify_items": null,
            "left": null,
            "margin": null,
            "max_height": null,
            "max_width": null,
            "min_height": null,
            "min_width": null,
            "object_fit": null,
            "object_position": null,
            "order": null,
            "overflow": null,
            "overflow_x": null,
            "overflow_y": null,
            "padding": null,
            "right": null,
            "top": null,
            "visibility": null,
            "width": null
          }
        },
        "a6328f1bd989421bb7b0996378f12f56": {
          "model_module": "@jupyter-widgets/controls",
          "model_name": "DescriptionStyleModel",
          "model_module_version": "1.5.0",
          "state": {
            "_model_module": "@jupyter-widgets/controls",
            "_model_module_version": "1.5.0",
            "_model_name": "DescriptionStyleModel",
            "_view_count": null,
            "_view_module": "@jupyter-widgets/base",
            "_view_module_version": "1.2.0",
            "_view_name": "StyleView",
            "description_width": ""
          }
        },
        "ce5619c6222e4267a11e850aeda4a9c0": {
          "model_module": "@jupyter-widgets/base",
          "model_name": "LayoutModel",
          "model_module_version": "1.2.0",
          "state": {
            "_model_module": "@jupyter-widgets/base",
            "_model_module_version": "1.2.0",
            "_model_name": "LayoutModel",
            "_view_count": null,
            "_view_module": "@jupyter-widgets/base",
            "_view_module_version": "1.2.0",
            "_view_name": "LayoutView",
            "align_content": null,
            "align_items": null,
            "align_self": null,
            "border": null,
            "bottom": null,
            "display": null,
            "flex": null,
            "flex_flow": null,
            "grid_area": null,
            "grid_auto_columns": null,
            "grid_auto_flow": null,
            "grid_auto_rows": null,
            "grid_column": null,
            "grid_gap": null,
            "grid_row": null,
            "grid_template_areas": null,
            "grid_template_columns": null,
            "grid_template_rows": null,
            "height": null,
            "justify_content": null,
            "justify_items": null,
            "left": null,
            "margin": null,
            "max_height": null,
            "max_width": null,
            "min_height": null,
            "min_width": null,
            "object_fit": null,
            "object_position": null,
            "order": null,
            "overflow": null,
            "overflow_x": null,
            "overflow_y": null,
            "padding": null,
            "right": null,
            "top": null,
            "visibility": null,
            "width": null
          }
        },
        "c2fd055b18524aba9a356ca30f07a7b5": {
          "model_module": "@jupyter-widgets/controls",
          "model_name": "ProgressStyleModel",
          "model_module_version": "1.5.0",
          "state": {
            "_model_module": "@jupyter-widgets/controls",
            "_model_module_version": "1.5.0",
            "_model_name": "ProgressStyleModel",
            "_view_count": null,
            "_view_module": "@jupyter-widgets/base",
            "_view_module_version": "1.2.0",
            "_view_name": "StyleView",
            "bar_color": null,
            "description_width": ""
          }
        },
        "4afa2ac4eca24177a83ebbd011ecf5d9": {
          "model_module": "@jupyter-widgets/base",
          "model_name": "LayoutModel",
          "model_module_version": "1.2.0",
          "state": {
            "_model_module": "@jupyter-widgets/base",
            "_model_module_version": "1.2.0",
            "_model_name": "LayoutModel",
            "_view_count": null,
            "_view_module": "@jupyter-widgets/base",
            "_view_module_version": "1.2.0",
            "_view_name": "LayoutView",
            "align_content": null,
            "align_items": null,
            "align_self": null,
            "border": null,
            "bottom": null,
            "display": null,
            "flex": null,
            "flex_flow": null,
            "grid_area": null,
            "grid_auto_columns": null,
            "grid_auto_flow": null,
            "grid_auto_rows": null,
            "grid_column": null,
            "grid_gap": null,
            "grid_row": null,
            "grid_template_areas": null,
            "grid_template_columns": null,
            "grid_template_rows": null,
            "height": null,
            "justify_content": null,
            "justify_items": null,
            "left": null,
            "margin": null,
            "max_height": null,
            "max_width": null,
            "min_height": null,
            "min_width": null,
            "object_fit": null,
            "object_position": null,
            "order": null,
            "overflow": null,
            "overflow_x": null,
            "overflow_y": null,
            "padding": null,
            "right": null,
            "top": null,
            "visibility": null,
            "width": null
          }
        },
        "5d7f966887394db7b49f298d305316a1": {
          "model_module": "@jupyter-widgets/controls",
          "model_name": "DescriptionStyleModel",
          "model_module_version": "1.5.0",
          "state": {
            "_model_module": "@jupyter-widgets/controls",
            "_model_module_version": "1.5.0",
            "_model_name": "DescriptionStyleModel",
            "_view_count": null,
            "_view_module": "@jupyter-widgets/base",
            "_view_module_version": "1.2.0",
            "_view_name": "StyleView",
            "description_width": ""
          }
        },
        "5f8e02e0431c4ea8a1389a8fcfbabf5c": {
          "model_module": "@jupyter-widgets/controls",
          "model_name": "HBoxModel",
          "model_module_version": "1.5.0",
          "state": {
            "_dom_classes": [],
            "_model_module": "@jupyter-widgets/controls",
            "_model_module_version": "1.5.0",
            "_model_name": "HBoxModel",
            "_view_count": null,
            "_view_module": "@jupyter-widgets/controls",
            "_view_module_version": "1.5.0",
            "_view_name": "HBoxView",
            "box_style": "",
            "children": [
              "IPY_MODEL_c5bcbc61279a4560b78c0760de63604f",
              "IPY_MODEL_e4d14a9902964f39ba2b45b0f6e39300",
              "IPY_MODEL_742872494ee94c5b8477a8f2c23cc716"
            ],
            "layout": "IPY_MODEL_3afd36c5bbca44108f0e17e98e04befa"
          }
        },
        "c5bcbc61279a4560b78c0760de63604f": {
          "model_module": "@jupyter-widgets/controls",
          "model_name": "HTMLModel",
          "model_module_version": "1.5.0",
          "state": {
            "_dom_classes": [],
            "_model_module": "@jupyter-widgets/controls",
            "_model_module_version": "1.5.0",
            "_model_name": "HTMLModel",
            "_view_count": null,
            "_view_module": "@jupyter-widgets/controls",
            "_view_module_version": "1.5.0",
            "_view_name": "HTMLView",
            "description": "",
            "description_tooltip": null,
            "layout": "IPY_MODEL_3d5133992c774dd7bd2dcc5926c38789",
            "placeholder": "​",
            "style": "IPY_MODEL_159f3369579142fab8902a3347dc004c",
            "value": "100%"
          }
        },
        "e4d14a9902964f39ba2b45b0f6e39300": {
          "model_module": "@jupyter-widgets/controls",
          "model_name": "FloatProgressModel",
          "model_module_version": "1.5.0",
          "state": {
            "_dom_classes": [],
            "_model_module": "@jupyter-widgets/controls",
            "_model_module_version": "1.5.0",
            "_model_name": "FloatProgressModel",
            "_view_count": null,
            "_view_module": "@jupyter-widgets/controls",
            "_view_module_version": "1.5.0",
            "_view_name": "ProgressView",
            "bar_style": "success",
            "description": "",
            "description_tooltip": null,
            "layout": "IPY_MODEL_638e0ed0074947d89788829f341b9352",
            "max": 28881,
            "min": 0,
            "orientation": "horizontal",
            "style": "IPY_MODEL_4c93fc7d20f14dc092f5b9d5340667fb",
            "value": 28881
          }
        },
        "742872494ee94c5b8477a8f2c23cc716": {
          "model_module": "@jupyter-widgets/controls",
          "model_name": "HTMLModel",
          "model_module_version": "1.5.0",
          "state": {
            "_dom_classes": [],
            "_model_module": "@jupyter-widgets/controls",
            "_model_module_version": "1.5.0",
            "_model_name": "HTMLModel",
            "_view_count": null,
            "_view_module": "@jupyter-widgets/controls",
            "_view_module_version": "1.5.0",
            "_view_name": "HTMLView",
            "description": "",
            "description_tooltip": null,
            "layout": "IPY_MODEL_44f31bb4dde743808a11b06dfb037cad",
            "placeholder": "​",
            "style": "IPY_MODEL_6efd889df1a54725a247395b3d261e25",
            "value": " 28881/28881 [00:00&lt;00:00, 1264042.22it/s]"
          }
        },
        "3afd36c5bbca44108f0e17e98e04befa": {
          "model_module": "@jupyter-widgets/base",
          "model_name": "LayoutModel",
          "model_module_version": "1.2.0",
          "state": {
            "_model_module": "@jupyter-widgets/base",
            "_model_module_version": "1.2.0",
            "_model_name": "LayoutModel",
            "_view_count": null,
            "_view_module": "@jupyter-widgets/base",
            "_view_module_version": "1.2.0",
            "_view_name": "LayoutView",
            "align_content": null,
            "align_items": null,
            "align_self": null,
            "border": null,
            "bottom": null,
            "display": null,
            "flex": null,
            "flex_flow": null,
            "grid_area": null,
            "grid_auto_columns": null,
            "grid_auto_flow": null,
            "grid_auto_rows": null,
            "grid_column": null,
            "grid_gap": null,
            "grid_row": null,
            "grid_template_areas": null,
            "grid_template_columns": null,
            "grid_template_rows": null,
            "height": null,
            "justify_content": null,
            "justify_items": null,
            "left": null,
            "margin": null,
            "max_height": null,
            "max_width": null,
            "min_height": null,
            "min_width": null,
            "object_fit": null,
            "object_position": null,
            "order": null,
            "overflow": null,
            "overflow_x": null,
            "overflow_y": null,
            "padding": null,
            "right": null,
            "top": null,
            "visibility": null,
            "width": null
          }
        },
        "3d5133992c774dd7bd2dcc5926c38789": {
          "model_module": "@jupyter-widgets/base",
          "model_name": "LayoutModel",
          "model_module_version": "1.2.0",
          "state": {
            "_model_module": "@jupyter-widgets/base",
            "_model_module_version": "1.2.0",
            "_model_name": "LayoutModel",
            "_view_count": null,
            "_view_module": "@jupyter-widgets/base",
            "_view_module_version": "1.2.0",
            "_view_name": "LayoutView",
            "align_content": null,
            "align_items": null,
            "align_self": null,
            "border": null,
            "bottom": null,
            "display": null,
            "flex": null,
            "flex_flow": null,
            "grid_area": null,
            "grid_auto_columns": null,
            "grid_auto_flow": null,
            "grid_auto_rows": null,
            "grid_column": null,
            "grid_gap": null,
            "grid_row": null,
            "grid_template_areas": null,
            "grid_template_columns": null,
            "grid_template_rows": null,
            "height": null,
            "justify_content": null,
            "justify_items": null,
            "left": null,
            "margin": null,
            "max_height": null,
            "max_width": null,
            "min_height": null,
            "min_width": null,
            "object_fit": null,
            "object_position": null,
            "order": null,
            "overflow": null,
            "overflow_x": null,
            "overflow_y": null,
            "padding": null,
            "right": null,
            "top": null,
            "visibility": null,
            "width": null
          }
        },
        "159f3369579142fab8902a3347dc004c": {
          "model_module": "@jupyter-widgets/controls",
          "model_name": "DescriptionStyleModel",
          "model_module_version": "1.5.0",
          "state": {
            "_model_module": "@jupyter-widgets/controls",
            "_model_module_version": "1.5.0",
            "_model_name": "DescriptionStyleModel",
            "_view_count": null,
            "_view_module": "@jupyter-widgets/base",
            "_view_module_version": "1.2.0",
            "_view_name": "StyleView",
            "description_width": ""
          }
        },
        "638e0ed0074947d89788829f341b9352": {
          "model_module": "@jupyter-widgets/base",
          "model_name": "LayoutModel",
          "model_module_version": "1.2.0",
          "state": {
            "_model_module": "@jupyter-widgets/base",
            "_model_module_version": "1.2.0",
            "_model_name": "LayoutModel",
            "_view_count": null,
            "_view_module": "@jupyter-widgets/base",
            "_view_module_version": "1.2.0",
            "_view_name": "LayoutView",
            "align_content": null,
            "align_items": null,
            "align_self": null,
            "border": null,
            "bottom": null,
            "display": null,
            "flex": null,
            "flex_flow": null,
            "grid_area": null,
            "grid_auto_columns": null,
            "grid_auto_flow": null,
            "grid_auto_rows": null,
            "grid_column": null,
            "grid_gap": null,
            "grid_row": null,
            "grid_template_areas": null,
            "grid_template_columns": null,
            "grid_template_rows": null,
            "height": null,
            "justify_content": null,
            "justify_items": null,
            "left": null,
            "margin": null,
            "max_height": null,
            "max_width": null,
            "min_height": null,
            "min_width": null,
            "object_fit": null,
            "object_position": null,
            "order": null,
            "overflow": null,
            "overflow_x": null,
            "overflow_y": null,
            "padding": null,
            "right": null,
            "top": null,
            "visibility": null,
            "width": null
          }
        },
        "4c93fc7d20f14dc092f5b9d5340667fb": {
          "model_module": "@jupyter-widgets/controls",
          "model_name": "ProgressStyleModel",
          "model_module_version": "1.5.0",
          "state": {
            "_model_module": "@jupyter-widgets/controls",
            "_model_module_version": "1.5.0",
            "_model_name": "ProgressStyleModel",
            "_view_count": null,
            "_view_module": "@jupyter-widgets/base",
            "_view_module_version": "1.2.0",
            "_view_name": "StyleView",
            "bar_color": null,
            "description_width": ""
          }
        },
        "44f31bb4dde743808a11b06dfb037cad": {
          "model_module": "@jupyter-widgets/base",
          "model_name": "LayoutModel",
          "model_module_version": "1.2.0",
          "state": {
            "_model_module": "@jupyter-widgets/base",
            "_model_module_version": "1.2.0",
            "_model_name": "LayoutModel",
            "_view_count": null,
            "_view_module": "@jupyter-widgets/base",
            "_view_module_version": "1.2.0",
            "_view_name": "LayoutView",
            "align_content": null,
            "align_items": null,
            "align_self": null,
            "border": null,
            "bottom": null,
            "display": null,
            "flex": null,
            "flex_flow": null,
            "grid_area": null,
            "grid_auto_columns": null,
            "grid_auto_flow": null,
            "grid_auto_rows": null,
            "grid_column": null,
            "grid_gap": null,
            "grid_row": null,
            "grid_template_areas": null,
            "grid_template_columns": null,
            "grid_template_rows": null,
            "height": null,
            "justify_content": null,
            "justify_items": null,
            "left": null,
            "margin": null,
            "max_height": null,
            "max_width": null,
            "min_height": null,
            "min_width": null,
            "object_fit": null,
            "object_position": null,
            "order": null,
            "overflow": null,
            "overflow_x": null,
            "overflow_y": null,
            "padding": null,
            "right": null,
            "top": null,
            "visibility": null,
            "width": null
          }
        },
        "6efd889df1a54725a247395b3d261e25": {
          "model_module": "@jupyter-widgets/controls",
          "model_name": "DescriptionStyleModel",
          "model_module_version": "1.5.0",
          "state": {
            "_model_module": "@jupyter-widgets/controls",
            "_model_module_version": "1.5.0",
            "_model_name": "DescriptionStyleModel",
            "_view_count": null,
            "_view_module": "@jupyter-widgets/base",
            "_view_module_version": "1.2.0",
            "_view_name": "StyleView",
            "description_width": ""
          }
        },
        "693e99f1abbc44bdaf3433b27c0db5c5": {
          "model_module": "@jupyter-widgets/controls",
          "model_name": "HBoxModel",
          "model_module_version": "1.5.0",
          "state": {
            "_dom_classes": [],
            "_model_module": "@jupyter-widgets/controls",
            "_model_module_version": "1.5.0",
            "_model_name": "HBoxModel",
            "_view_count": null,
            "_view_module": "@jupyter-widgets/controls",
            "_view_module_version": "1.5.0",
            "_view_name": "HBoxView",
            "box_style": "",
            "children": [
              "IPY_MODEL_6fb9fb54da8e4fbcb5fb172bb91820dc",
              "IPY_MODEL_026e29fd8aef434db27e41afc6aa5a25",
              "IPY_MODEL_7efa5e50fe2a465dba8bedaf3dd25947"
            ],
            "layout": "IPY_MODEL_ce07ce59b9ac4754bd745671d36e3875"
          }
        },
        "6fb9fb54da8e4fbcb5fb172bb91820dc": {
          "model_module": "@jupyter-widgets/controls",
          "model_name": "HTMLModel",
          "model_module_version": "1.5.0",
          "state": {
            "_dom_classes": [],
            "_model_module": "@jupyter-widgets/controls",
            "_model_module_version": "1.5.0",
            "_model_name": "HTMLModel",
            "_view_count": null,
            "_view_module": "@jupyter-widgets/controls",
            "_view_module_version": "1.5.0",
            "_view_name": "HTMLView",
            "description": "",
            "description_tooltip": null,
            "layout": "IPY_MODEL_d5608b1c55444287a0f980bb24009a82",
            "placeholder": "​",
            "style": "IPY_MODEL_e534cd296ea0485d80c7b89e891658e9",
            "value": "100%"
          }
        },
        "026e29fd8aef434db27e41afc6aa5a25": {
          "model_module": "@jupyter-widgets/controls",
          "model_name": "FloatProgressModel",
          "model_module_version": "1.5.0",
          "state": {
            "_dom_classes": [],
            "_model_module": "@jupyter-widgets/controls",
            "_model_module_version": "1.5.0",
            "_model_name": "FloatProgressModel",
            "_view_count": null,
            "_view_module": "@jupyter-widgets/controls",
            "_view_module_version": "1.5.0",
            "_view_name": "ProgressView",
            "bar_style": "success",
            "description": "",
            "description_tooltip": null,
            "layout": "IPY_MODEL_a90e46ceef634fe59ab49cf350f6f27b",
            "max": 1648877,
            "min": 0,
            "orientation": "horizontal",
            "style": "IPY_MODEL_122e9a34c4184d9dbce43ebd89a54ec5",
            "value": 1648877
          }
        },
        "7efa5e50fe2a465dba8bedaf3dd25947": {
          "model_module": "@jupyter-widgets/controls",
          "model_name": "HTMLModel",
          "model_module_version": "1.5.0",
          "state": {
            "_dom_classes": [],
            "_model_module": "@jupyter-widgets/controls",
            "_model_module_version": "1.5.0",
            "_model_name": "HTMLModel",
            "_view_count": null,
            "_view_module": "@jupyter-widgets/controls",
            "_view_module_version": "1.5.0",
            "_view_name": "HTMLView",
            "description": "",
            "description_tooltip": null,
            "layout": "IPY_MODEL_cdaf2adf11724f79b6e294988dcdd2e2",
            "placeholder": "​",
            "style": "IPY_MODEL_3fff8a77134c4aa69e84b85685e035a8",
            "value": " 1648877/1648877 [00:00&lt;00:00, 71717805.26it/s]"
          }
        },
        "ce07ce59b9ac4754bd745671d36e3875": {
          "model_module": "@jupyter-widgets/base",
          "model_name": "LayoutModel",
          "model_module_version": "1.2.0",
          "state": {
            "_model_module": "@jupyter-widgets/base",
            "_model_module_version": "1.2.0",
            "_model_name": "LayoutModel",
            "_view_count": null,
            "_view_module": "@jupyter-widgets/base",
            "_view_module_version": "1.2.0",
            "_view_name": "LayoutView",
            "align_content": null,
            "align_items": null,
            "align_self": null,
            "border": null,
            "bottom": null,
            "display": null,
            "flex": null,
            "flex_flow": null,
            "grid_area": null,
            "grid_auto_columns": null,
            "grid_auto_flow": null,
            "grid_auto_rows": null,
            "grid_column": null,
            "grid_gap": null,
            "grid_row": null,
            "grid_template_areas": null,
            "grid_template_columns": null,
            "grid_template_rows": null,
            "height": null,
            "justify_content": null,
            "justify_items": null,
            "left": null,
            "margin": null,
            "max_height": null,
            "max_width": null,
            "min_height": null,
            "min_width": null,
            "object_fit": null,
            "object_position": null,
            "order": null,
            "overflow": null,
            "overflow_x": null,
            "overflow_y": null,
            "padding": null,
            "right": null,
            "top": null,
            "visibility": null,
            "width": null
          }
        },
        "d5608b1c55444287a0f980bb24009a82": {
          "model_module": "@jupyter-widgets/base",
          "model_name": "LayoutModel",
          "model_module_version": "1.2.0",
          "state": {
            "_model_module": "@jupyter-widgets/base",
            "_model_module_version": "1.2.0",
            "_model_name": "LayoutModel",
            "_view_count": null,
            "_view_module": "@jupyter-widgets/base",
            "_view_module_version": "1.2.0",
            "_view_name": "LayoutView",
            "align_content": null,
            "align_items": null,
            "align_self": null,
            "border": null,
            "bottom": null,
            "display": null,
            "flex": null,
            "flex_flow": null,
            "grid_area": null,
            "grid_auto_columns": null,
            "grid_auto_flow": null,
            "grid_auto_rows": null,
            "grid_column": null,
            "grid_gap": null,
            "grid_row": null,
            "grid_template_areas": null,
            "grid_template_columns": null,
            "grid_template_rows": null,
            "height": null,
            "justify_content": null,
            "justify_items": null,
            "left": null,
            "margin": null,
            "max_height": null,
            "max_width": null,
            "min_height": null,
            "min_width": null,
            "object_fit": null,
            "object_position": null,
            "order": null,
            "overflow": null,
            "overflow_x": null,
            "overflow_y": null,
            "padding": null,
            "right": null,
            "top": null,
            "visibility": null,
            "width": null
          }
        },
        "e534cd296ea0485d80c7b89e891658e9": {
          "model_module": "@jupyter-widgets/controls",
          "model_name": "DescriptionStyleModel",
          "model_module_version": "1.5.0",
          "state": {
            "_model_module": "@jupyter-widgets/controls",
            "_model_module_version": "1.5.0",
            "_model_name": "DescriptionStyleModel",
            "_view_count": null,
            "_view_module": "@jupyter-widgets/base",
            "_view_module_version": "1.2.0",
            "_view_name": "StyleView",
            "description_width": ""
          }
        },
        "a90e46ceef634fe59ab49cf350f6f27b": {
          "model_module": "@jupyter-widgets/base",
          "model_name": "LayoutModel",
          "model_module_version": "1.2.0",
          "state": {
            "_model_module": "@jupyter-widgets/base",
            "_model_module_version": "1.2.0",
            "_model_name": "LayoutModel",
            "_view_count": null,
            "_view_module": "@jupyter-widgets/base",
            "_view_module_version": "1.2.0",
            "_view_name": "LayoutView",
            "align_content": null,
            "align_items": null,
            "align_self": null,
            "border": null,
            "bottom": null,
            "display": null,
            "flex": null,
            "flex_flow": null,
            "grid_area": null,
            "grid_auto_columns": null,
            "grid_auto_flow": null,
            "grid_auto_rows": null,
            "grid_column": null,
            "grid_gap": null,
            "grid_row": null,
            "grid_template_areas": null,
            "grid_template_columns": null,
            "grid_template_rows": null,
            "height": null,
            "justify_content": null,
            "justify_items": null,
            "left": null,
            "margin": null,
            "max_height": null,
            "max_width": null,
            "min_height": null,
            "min_width": null,
            "object_fit": null,
            "object_position": null,
            "order": null,
            "overflow": null,
            "overflow_x": null,
            "overflow_y": null,
            "padding": null,
            "right": null,
            "top": null,
            "visibility": null,
            "width": null
          }
        },
        "122e9a34c4184d9dbce43ebd89a54ec5": {
          "model_module": "@jupyter-widgets/controls",
          "model_name": "ProgressStyleModel",
          "model_module_version": "1.5.0",
          "state": {
            "_model_module": "@jupyter-widgets/controls",
            "_model_module_version": "1.5.0",
            "_model_name": "ProgressStyleModel",
            "_view_count": null,
            "_view_module": "@jupyter-widgets/base",
            "_view_module_version": "1.2.0",
            "_view_name": "StyleView",
            "bar_color": null,
            "description_width": ""
          }
        },
        "cdaf2adf11724f79b6e294988dcdd2e2": {
          "model_module": "@jupyter-widgets/base",
          "model_name": "LayoutModel",
          "model_module_version": "1.2.0",
          "state": {
            "_model_module": "@jupyter-widgets/base",
            "_model_module_version": "1.2.0",
            "_model_name": "LayoutModel",
            "_view_count": null,
            "_view_module": "@jupyter-widgets/base",
            "_view_module_version": "1.2.0",
            "_view_name": "LayoutView",
            "align_content": null,
            "align_items": null,
            "align_self": null,
            "border": null,
            "bottom": null,
            "display": null,
            "flex": null,
            "flex_flow": null,
            "grid_area": null,
            "grid_auto_columns": null,
            "grid_auto_flow": null,
            "grid_auto_rows": null,
            "grid_column": null,
            "grid_gap": null,
            "grid_row": null,
            "grid_template_areas": null,
            "grid_template_columns": null,
            "grid_template_rows": null,
            "height": null,
            "justify_content": null,
            "justify_items": null,
            "left": null,
            "margin": null,
            "max_height": null,
            "max_width": null,
            "min_height": null,
            "min_width": null,
            "object_fit": null,
            "object_position": null,
            "order": null,
            "overflow": null,
            "overflow_x": null,
            "overflow_y": null,
            "padding": null,
            "right": null,
            "top": null,
            "visibility": null,
            "width": null
          }
        },
        "3fff8a77134c4aa69e84b85685e035a8": {
          "model_module": "@jupyter-widgets/controls",
          "model_name": "DescriptionStyleModel",
          "model_module_version": "1.5.0",
          "state": {
            "_model_module": "@jupyter-widgets/controls",
            "_model_module_version": "1.5.0",
            "_model_name": "DescriptionStyleModel",
            "_view_count": null,
            "_view_module": "@jupyter-widgets/base",
            "_view_module_version": "1.2.0",
            "_view_name": "StyleView",
            "description_width": ""
          }
        },
        "6085ff59e6d54b9893fcbc858836ba0e": {
          "model_module": "@jupyter-widgets/controls",
          "model_name": "HBoxModel",
          "model_module_version": "1.5.0",
          "state": {
            "_dom_classes": [],
            "_model_module": "@jupyter-widgets/controls",
            "_model_module_version": "1.5.0",
            "_model_name": "HBoxModel",
            "_view_count": null,
            "_view_module": "@jupyter-widgets/controls",
            "_view_module_version": "1.5.0",
            "_view_name": "HBoxView",
            "box_style": "",
            "children": [
              "IPY_MODEL_c8dd6d4850994ddba87be92566626d8e",
              "IPY_MODEL_9acb8110c5324f73bb8b34fcd31ba31f",
              "IPY_MODEL_80c701ea1dc7453892b5ba7c3307ad49"
            ],
            "layout": "IPY_MODEL_9c5183764ff3422e89a4396c57646f5f"
          }
        },
        "c8dd6d4850994ddba87be92566626d8e": {
          "model_module": "@jupyter-widgets/controls",
          "model_name": "HTMLModel",
          "model_module_version": "1.5.0",
          "state": {
            "_dom_classes": [],
            "_model_module": "@jupyter-widgets/controls",
            "_model_module_version": "1.5.0",
            "_model_name": "HTMLModel",
            "_view_count": null,
            "_view_module": "@jupyter-widgets/controls",
            "_view_module_version": "1.5.0",
            "_view_name": "HTMLView",
            "description": "",
            "description_tooltip": null,
            "layout": "IPY_MODEL_78c0ae3d7f5944bdb9270f0d23060e79",
            "placeholder": "​",
            "style": "IPY_MODEL_d209a15a12e54c229218f0e9b3a3abde",
            "value": "100%"
          }
        },
        "9acb8110c5324f73bb8b34fcd31ba31f": {
          "model_module": "@jupyter-widgets/controls",
          "model_name": "FloatProgressModel",
          "model_module_version": "1.5.0",
          "state": {
            "_dom_classes": [],
            "_model_module": "@jupyter-widgets/controls",
            "_model_module_version": "1.5.0",
            "_model_name": "FloatProgressModel",
            "_view_count": null,
            "_view_module": "@jupyter-widgets/controls",
            "_view_module_version": "1.5.0",
            "_view_name": "ProgressView",
            "bar_style": "success",
            "description": "",
            "description_tooltip": null,
            "layout": "IPY_MODEL_467aef3cd45940d0ae9c7e85e5fc79fd",
            "max": 4542,
            "min": 0,
            "orientation": "horizontal",
            "style": "IPY_MODEL_126b78d966ec47e3878f9b7af7e205f5",
            "value": 4542
          }
        },
        "80c701ea1dc7453892b5ba7c3307ad49": {
          "model_module": "@jupyter-widgets/controls",
          "model_name": "HTMLModel",
          "model_module_version": "1.5.0",
          "state": {
            "_dom_classes": [],
            "_model_module": "@jupyter-widgets/controls",
            "_model_module_version": "1.5.0",
            "_model_name": "HTMLModel",
            "_view_count": null,
            "_view_module": "@jupyter-widgets/controls",
            "_view_module_version": "1.5.0",
            "_view_name": "HTMLView",
            "description": "",
            "description_tooltip": null,
            "layout": "IPY_MODEL_30b1ae6d88574737875258110f437b27",
            "placeholder": "​",
            "style": "IPY_MODEL_2646e18ecc4445f3b3557bd91fb3a949",
            "value": " 4542/4542 [00:00&lt;00:00, 342100.11it/s]"
          }
        },
        "9c5183764ff3422e89a4396c57646f5f": {
          "model_module": "@jupyter-widgets/base",
          "model_name": "LayoutModel",
          "model_module_version": "1.2.0",
          "state": {
            "_model_module": "@jupyter-widgets/base",
            "_model_module_version": "1.2.0",
            "_model_name": "LayoutModel",
            "_view_count": null,
            "_view_module": "@jupyter-widgets/base",
            "_view_module_version": "1.2.0",
            "_view_name": "LayoutView",
            "align_content": null,
            "align_items": null,
            "align_self": null,
            "border": null,
            "bottom": null,
            "display": null,
            "flex": null,
            "flex_flow": null,
            "grid_area": null,
            "grid_auto_columns": null,
            "grid_auto_flow": null,
            "grid_auto_rows": null,
            "grid_column": null,
            "grid_gap": null,
            "grid_row": null,
            "grid_template_areas": null,
            "grid_template_columns": null,
            "grid_template_rows": null,
            "height": null,
            "justify_content": null,
            "justify_items": null,
            "left": null,
            "margin": null,
            "max_height": null,
            "max_width": null,
            "min_height": null,
            "min_width": null,
            "object_fit": null,
            "object_position": null,
            "order": null,
            "overflow": null,
            "overflow_x": null,
            "overflow_y": null,
            "padding": null,
            "right": null,
            "top": null,
            "visibility": null,
            "width": null
          }
        },
        "78c0ae3d7f5944bdb9270f0d23060e79": {
          "model_module": "@jupyter-widgets/base",
          "model_name": "LayoutModel",
          "model_module_version": "1.2.0",
          "state": {
            "_model_module": "@jupyter-widgets/base",
            "_model_module_version": "1.2.0",
            "_model_name": "LayoutModel",
            "_view_count": null,
            "_view_module": "@jupyter-widgets/base",
            "_view_module_version": "1.2.0",
            "_view_name": "LayoutView",
            "align_content": null,
            "align_items": null,
            "align_self": null,
            "border": null,
            "bottom": null,
            "display": null,
            "flex": null,
            "flex_flow": null,
            "grid_area": null,
            "grid_auto_columns": null,
            "grid_auto_flow": null,
            "grid_auto_rows": null,
            "grid_column": null,
            "grid_gap": null,
            "grid_row": null,
            "grid_template_areas": null,
            "grid_template_columns": null,
            "grid_template_rows": null,
            "height": null,
            "justify_content": null,
            "justify_items": null,
            "left": null,
            "margin": null,
            "max_height": null,
            "max_width": null,
            "min_height": null,
            "min_width": null,
            "object_fit": null,
            "object_position": null,
            "order": null,
            "overflow": null,
            "overflow_x": null,
            "overflow_y": null,
            "padding": null,
            "right": null,
            "top": null,
            "visibility": null,
            "width": null
          }
        },
        "d209a15a12e54c229218f0e9b3a3abde": {
          "model_module": "@jupyter-widgets/controls",
          "model_name": "DescriptionStyleModel",
          "model_module_version": "1.5.0",
          "state": {
            "_model_module": "@jupyter-widgets/controls",
            "_model_module_version": "1.5.0",
            "_model_name": "DescriptionStyleModel",
            "_view_count": null,
            "_view_module": "@jupyter-widgets/base",
            "_view_module_version": "1.2.0",
            "_view_name": "StyleView",
            "description_width": ""
          }
        },
        "467aef3cd45940d0ae9c7e85e5fc79fd": {
          "model_module": "@jupyter-widgets/base",
          "model_name": "LayoutModel",
          "model_module_version": "1.2.0",
          "state": {
            "_model_module": "@jupyter-widgets/base",
            "_model_module_version": "1.2.0",
            "_model_name": "LayoutModel",
            "_view_count": null,
            "_view_module": "@jupyter-widgets/base",
            "_view_module_version": "1.2.0",
            "_view_name": "LayoutView",
            "align_content": null,
            "align_items": null,
            "align_self": null,
            "border": null,
            "bottom": null,
            "display": null,
            "flex": null,
            "flex_flow": null,
            "grid_area": null,
            "grid_auto_columns": null,
            "grid_auto_flow": null,
            "grid_auto_rows": null,
            "grid_column": null,
            "grid_gap": null,
            "grid_row": null,
            "grid_template_areas": null,
            "grid_template_columns": null,
            "grid_template_rows": null,
            "height": null,
            "justify_content": null,
            "justify_items": null,
            "left": null,
            "margin": null,
            "max_height": null,
            "max_width": null,
            "min_height": null,
            "min_width": null,
            "object_fit": null,
            "object_position": null,
            "order": null,
            "overflow": null,
            "overflow_x": null,
            "overflow_y": null,
            "padding": null,
            "right": null,
            "top": null,
            "visibility": null,
            "width": null
          }
        },
        "126b78d966ec47e3878f9b7af7e205f5": {
          "model_module": "@jupyter-widgets/controls",
          "model_name": "ProgressStyleModel",
          "model_module_version": "1.5.0",
          "state": {
            "_model_module": "@jupyter-widgets/controls",
            "_model_module_version": "1.5.0",
            "_model_name": "ProgressStyleModel",
            "_view_count": null,
            "_view_module": "@jupyter-widgets/base",
            "_view_module_version": "1.2.0",
            "_view_name": "StyleView",
            "bar_color": null,
            "description_width": ""
          }
        },
        "30b1ae6d88574737875258110f437b27": {
          "model_module": "@jupyter-widgets/base",
          "model_name": "LayoutModel",
          "model_module_version": "1.2.0",
          "state": {
            "_model_module": "@jupyter-widgets/base",
            "_model_module_version": "1.2.0",
            "_model_name": "LayoutModel",
            "_view_count": null,
            "_view_module": "@jupyter-widgets/base",
            "_view_module_version": "1.2.0",
            "_view_name": "LayoutView",
            "align_content": null,
            "align_items": null,
            "align_self": null,
            "border": null,
            "bottom": null,
            "display": null,
            "flex": null,
            "flex_flow": null,
            "grid_area": null,
            "grid_auto_columns": null,
            "grid_auto_flow": null,
            "grid_auto_rows": null,
            "grid_column": null,
            "grid_gap": null,
            "grid_row": null,
            "grid_template_areas": null,
            "grid_template_columns": null,
            "grid_template_rows": null,
            "height": null,
            "justify_content": null,
            "justify_items": null,
            "left": null,
            "margin": null,
            "max_height": null,
            "max_width": null,
            "min_height": null,
            "min_width": null,
            "object_fit": null,
            "object_position": null,
            "order": null,
            "overflow": null,
            "overflow_x": null,
            "overflow_y": null,
            "padding": null,
            "right": null,
            "top": null,
            "visibility": null,
            "width": null
          }
        },
        "2646e18ecc4445f3b3557bd91fb3a949": {
          "model_module": "@jupyter-widgets/controls",
          "model_name": "DescriptionStyleModel",
          "model_module_version": "1.5.0",
          "state": {
            "_model_module": "@jupyter-widgets/controls",
            "_model_module_version": "1.5.0",
            "_model_name": "DescriptionStyleModel",
            "_view_count": null,
            "_view_module": "@jupyter-widgets/base",
            "_view_module_version": "1.2.0",
            "_view_name": "StyleView",
            "description_width": ""
          }
        }
      }
    }
  },
  "nbformat": 4,
  "nbformat_minor": 0
}